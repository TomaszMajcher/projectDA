{
 "cells": [
  {
   "cell_type": "markdown",
   "metadata": {},
   "source": [
    " # Opis notatnika\n",
    " Zmierzamy do końca analizy danych, które zostały nam udostępnione. Ten krok dodaje jeszcze więcej informacji do naszego wyjściowego zbioru. Tym razem sprawdzimy między innymi to, czy opóźnienia lotów zależne są od trasy czy warunków pogodowych.\n",
    "\n",
    " Zanim jednak do tego przejdziemy, należy, podobnie jak w poprzednich krokach, skonfigurować odpowiednio notatnik.\n",
    " \n",
    " W tej części warsztatu ponownie wcielasz się w rolę Analiyka Danych, którego zadaniem jest wykonanie analizy eksplotacyjnej zbioru danych - jedno z wymagań dostarczonych przez klienta."
   ]
  },
  {
   "cell_type": "markdown",
   "metadata": {},
   "source": [
    " Tutaj zaimportuj wymagane biblioteki"
   ]
  },
  {
   "cell_type": "code",
   "execution_count": 1,
   "metadata": {},
   "outputs": [],
   "source": [
    "import pandas as pd\n",
    "import numpy as np\n",
    "\n",
    "from sqlalchemy import create_engine\n",
    "from matplotlib import pyplot as plt"
   ]
  },
  {
   "cell_type": "markdown",
   "metadata": {},
   "source": [
    " ## Połączenie z bazą danych\n",
    " Tutaj uzupełnij konfigurację połączenia"
   ]
  },
  {
   "cell_type": "code",
   "execution_count": 2,
   "metadata": {},
   "outputs": [],
   "source": [
    "username = 'postgres'\n",
    "password = 'Wawa2023'\n",
    "\n",
    "host = 'localhost'\n",
    "database = 'airlines'\n",
    "port = 5432"
   ]
  },
  {
   "cell_type": "markdown",
   "metadata": {},
   "source": [
    " Tutaj stwórz zmienną engine, która zostanie użyta do połączenia z bazą danych"
   ]
  },
  {
   "cell_type": "code",
   "execution_count": 3,
   "metadata": {},
   "outputs": [],
   "source": [
    "url = f\"postgresql://{username}:{password}@{host}/{database}\"\n",
    "engine = create_engine(url)"
   ]
  },
  {
   "cell_type": "markdown",
   "metadata": {},
   "source": [
    " Tutaj uzupełnij implementację metody `read_sql_table`"
   ]
  },
  {
   "cell_type": "code",
   "execution_count": 4,
   "metadata": {},
   "outputs": [],
   "source": [
    "def read_sql_table(table_name):\n",
    "    return pd.read_sql(table_name, con=engine)"
   ]
  },
  {
   "cell_type": "markdown",
   "metadata": {},
   "source": [
    " Tutaj zaczytaj zapisaną wcześniej ramkę danych `flight_df` do zmniennej o takiej samej nazwie"
   ]
  },
  {
   "cell_type": "code",
   "execution_count": 5,
   "metadata": {},
   "outputs": [],
   "source": [
    "flight_df = pd.read_csv('../data/processed/flight_df_02.csv', sep=';', encoding='utf-8')"
   ]
  },
  {
   "cell_type": "markdown",
   "metadata": {},
   "source": [
    " # Wzbogacenie o `airport_list`\n",
    " Wczytaj do obszaru roboczego tabelę `airport_list` używając procedury `read_sql_table`. Wykonaj poniższe ćwiczenia:  \n",
    " 1. Sprawdź, czy klucz `origin_airport_id` jest unikalny, tj. nie ma dwóch takich samych wartości w kolumnie `origin_airport_id`.  \n",
    " 1. Jeżeli duplikaty występują, usuń je w najdogodniejszy dla Ciebie sposób.  \n",
    " 1. Jeśli duplikaty nie występują, złącz ramki `airport_list_df` wraz z aktualną `flight_df`, używając kolumny `origin_airport_id` oraz złączenia typu `LEFT JOIN`. Z ramki `airport_list_df` interesuje nas dodanie kolumny `origin_city_name`.  \n",
    " 1. Dodatkowo dokonaj jeszcze raz złączenia ramki `flight_df` z `airport_list_df`, tym razem jednak złącz kolumnę `destination_airport_id` wraz z `origin_airport_id`. Podobnie jak wcześniej, interesuje nas kolumna `origin_city_name`, jedank ona powinna zostać wyświetlona jako `destination_city_name`"
   ]
  },
  {
   "cell_type": "markdown",
   "metadata": {},
   "source": [
    " Tutaj wczytaj ramkę `airport_list_df`"
   ]
  },
  {
   "cell_type": "code",
   "execution_count": 6,
   "metadata": {},
   "outputs": [
    {
     "data": {
      "text/html": [
       "<div>\n",
       "<style scoped>\n",
       "    .dataframe tbody tr th:only-of-type {\n",
       "        vertical-align: middle;\n",
       "    }\n",
       "\n",
       "    .dataframe tbody tr th {\n",
       "        vertical-align: top;\n",
       "    }\n",
       "\n",
       "    .dataframe thead th {\n",
       "        text-align: right;\n",
       "    }\n",
       "</style>\n",
       "<table border=\"1\" class=\"dataframe\">\n",
       "  <thead>\n",
       "    <tr style=\"text-align: right;\">\n",
       "      <th></th>\n",
       "      <th>id</th>\n",
       "      <th>origin_airport_id</th>\n",
       "      <th>display_airport_name</th>\n",
       "      <th>origin_city_name</th>\n",
       "      <th>name</th>\n",
       "    </tr>\n",
       "  </thead>\n",
       "  <tbody>\n",
       "    <tr>\n",
       "      <th>0</th>\n",
       "      <td>1</td>\n",
       "      <td>11638</td>\n",
       "      <td>Fresno Air Terminal</td>\n",
       "      <td>Fresno, CA</td>\n",
       "      <td>FRESNO YOSEMITE INTERNATIONAL, CA US</td>\n",
       "    </tr>\n",
       "    <tr>\n",
       "      <th>1</th>\n",
       "      <td>2</td>\n",
       "      <td>13342</td>\n",
       "      <td>General Mitchell Field</td>\n",
       "      <td>Milwaukee, WI</td>\n",
       "      <td>MILWAUKEE MITCHELL AIRPORT, WI US</td>\n",
       "    </tr>\n",
       "    <tr>\n",
       "      <th>2</th>\n",
       "      <td>3</td>\n",
       "      <td>13244</td>\n",
       "      <td>Memphis International</td>\n",
       "      <td>Memphis, TN</td>\n",
       "      <td>MEMPHIS INTERNATIONAL AIRPORT, TN US</td>\n",
       "    </tr>\n",
       "    <tr>\n",
       "      <th>3</th>\n",
       "      <td>4</td>\n",
       "      <td>15096</td>\n",
       "      <td>Syracuse Hancock International</td>\n",
       "      <td>Syracuse, NY</td>\n",
       "      <td>SYRACUSE HANCOCK INTERNATIONAL AIRPORT, NY US</td>\n",
       "    </tr>\n",
       "    <tr>\n",
       "      <th>4</th>\n",
       "      <td>5</td>\n",
       "      <td>10397</td>\n",
       "      <td>Atlanta Municipal</td>\n",
       "      <td>Atlanta, GA</td>\n",
       "      <td>ATLANTA HARTSFIELD JACKSON INTERNATIONAL AIRPO...</td>\n",
       "    </tr>\n",
       "  </tbody>\n",
       "</table>\n",
       "</div>"
      ],
      "text/plain": [
       "   id  origin_airport_id            display_airport_name origin_city_name  \\\n",
       "0   1              11638             Fresno Air Terminal       Fresno, CA   \n",
       "1   2              13342          General Mitchell Field    Milwaukee, WI   \n",
       "2   3              13244           Memphis International      Memphis, TN   \n",
       "3   4              15096  Syracuse Hancock International     Syracuse, NY   \n",
       "4   5              10397               Atlanta Municipal      Atlanta, GA   \n",
       "\n",
       "                                                name  \n",
       "0               FRESNO YOSEMITE INTERNATIONAL, CA US  \n",
       "1                  MILWAUKEE MITCHELL AIRPORT, WI US  \n",
       "2               MEMPHIS INTERNATIONAL AIRPORT, TN US  \n",
       "3      SYRACUSE HANCOCK INTERNATIONAL AIRPORT, NY US  \n",
       "4  ATLANTA HARTSFIELD JACKSON INTERNATIONAL AIRPO...  "
      ]
     },
     "execution_count": 6,
     "metadata": {},
     "output_type": "execute_result"
    }
   ],
   "source": [
    "airport_list_df = read_sql_table('airport_list')\n",
    "airport_list_df.head()"
   ]
  },
  {
   "cell_type": "markdown",
   "metadata": {},
   "source": [
    " Tutaj sprawdż, czy występują duplikaty dla kolumny `origin_airport_id`"
   ]
  },
  {
   "cell_type": "code",
   "execution_count": 7,
   "metadata": {},
   "outputs": [
    {
     "data": {
      "text/plain": [
       "origin_airport_id\n",
       "False    97\n",
       "Name: count, dtype: int64"
      ]
     },
     "execution_count": 7,
     "metadata": {},
     "output_type": "execute_result"
    }
   ],
   "source": [
    "airport_list_df['origin_airport_id'].duplicated().value_counts()"
   ]
  },
  {
   "cell_type": "markdown",
   "metadata": {},
   "source": [
    " Tutaj usuń duplikaty – jeśli występują"
   ]
  },
  {
   "cell_type": "code",
   "execution_count": null,
   "metadata": {},
   "outputs": [],
   "source": []
  },
  {
   "cell_type": "markdown",
   "metadata": {},
   "source": [
    " Tutaj dokonaj złączenia ramki `flight_df` oraz `airport_list_df` używając `origin_airport_id`"
   ]
  },
  {
   "cell_type": "code",
   "execution_count": 8,
   "metadata": {},
   "outputs": [],
   "source": [
    "flight_df = pd.merge(flight_df, airport_list_df[['origin_airport_id','origin_city_name']], on='origin_airport_id', how='left')\n"
   ]
  },
  {
   "cell_type": "markdown",
   "metadata": {},
   "source": [
    " Tutaj dokonaj złączenia ramki `flight_df` oraz `airport_list_df` używając `destination_airport_id`"
   ]
  },
  {
   "cell_type": "code",
   "execution_count": 9,
   "metadata": {},
   "outputs": [],
   "source": [
    "flight_df = pd.merge(flight_df, airport_list_df[['origin_airport_id','origin_city_name']], left_on='dest_airport_id', right_on='origin_airport_id', how='left')\n",
    "flight_df = flight_df.rename(columns={'origin_city_name_x': 'origin_city_name', 'origin_city_name_y': 'destination_city_name', 'origin_airport_id_x': 'origin_airport_id'})\n",
    "flight_df.drop(columns=['origin_airport_id_y'], inplace=True)"
   ]
  },
  {
   "cell_type": "markdown",
   "metadata": {},
   "source": [
    "### Sprawdzenie\n",
    "Uruchom kod poniżej, aby sprawdzić, czy ta część została poprawnie wykonana"
   ]
  },
  {
   "cell_type": "code",
   "execution_count": 10,
   "metadata": {},
   "outputs": [],
   "source": [
    "assert 'origin_city_name' in flight_df.columns, 'Brak kolumny `origin_city_name` w ramce flight_df'\n",
    "assert 'destination_city_name' in flight_df.columns, 'Brak kolumny `destination_city_name` w ramce flight_df'\n",
    "\n",
    "flight_df_expected_rows_amount = 1057391\n",
    "assert flight_df.shape[0] == flight_df_expected_rows_amount, 'Ups, zmieniła się liczba wierszy...'"
   ]
  },
  {
   "cell_type": "markdown",
   "metadata": {},
   "source": [
    " ## Analiza według lotnisk oraz tras\n",
    " Wykonaj poniższe polecenia:  \n",
    " 1. Wyznacz lotniska, z których **odlatywało** najwięcej samolotów. Wynik zapisz do ramki `top_airports_origin_df`.\n",
    " 1. Wyznacz lotnika, na których najwięcej lotów **się kończyło**. Wynik zapisz do ramki `top_airports_destination_df`.  \n",
    " 1. Wyznacz najczęściej uczęszczaną trasę, wynik zapisz do ramki `top_route_df`.  \n",
    " 1. Przy założeniu, że reprezentatywna liczba lotów na trasie wynosi ponad 500, wyznacz dodatkowo top 10:  \n",
    "     - tras z **najmniejszym odsetkiem opóźnień**, wynik zapisz do ramki `least_route_delays_df`.  \n",
    "     - tras z **największym odsetkiem opóźnień**, wynik zapisz do ramki `top_route_delays_df`."
   ]
  },
  {
   "cell_type": "markdown",
   "metadata": {},
   "source": [
    " Tutaj wyznacz ramkę `top_airports_origin_df`"
   ]
  },
  {
   "cell_type": "code",
   "execution_count": 11,
   "metadata": {},
   "outputs": [
    {
     "data": {
      "text/plain": [
       "origin_city_name\n",
       "Atlanta, GA              123162\n",
       "Chicago, IL              105437\n",
       "Los Angeles, CA           87849\n",
       "New York, NY              75785\n",
       "Denver, CO                64525\n",
       "Boston, MA                55989\n",
       "Seattle, WA               50465\n",
       "San Francisco, CA         50124\n",
       "Dallas/Fort Worth, TX     39511\n",
       "Las Vegas, NV             38456\n",
       "Phoenix, AZ               36517\n",
       "Burbank, CA               30565\n",
       "Washington, DC            29744\n",
       "Orlando, FL               26997\n",
       "San Diego, CA             24912\n",
       "Newark, NJ                24230\n",
       "Philadelphia, PA          19595\n",
       "Midland/Odessa, TX        13033\n",
       "Miami, FL                 12605\n",
       "Salt Lake City, UT        12428\n",
       "Baltimore, MD             12102\n",
       "Charlotte, NC             12047\n",
       "Honolulu, HI              11232\n",
       "Kahului, HI               10718\n",
       "Fort Lauderdale, FL        8612\n",
       "Kona, HI                   7792\n",
       "Tampa, FL                  7165\n",
       "Anchorage, AK              6966\n",
       "Lihue, HI                  6933\n",
       "Detroit, MI                6591\n",
       "San Jose, CA               6309\n",
       "Dallas, TX                 6057\n",
       "Houston, TX                6052\n",
       "Sacramento, CA             5852\n",
       "Cincinnati, OH             5385\n",
       "New Orleans, LA            5283\n",
       "Raleigh/Durham, NC         5275\n",
       "Name: id, dtype: int64"
      ]
     },
     "execution_count": 11,
     "metadata": {},
     "output_type": "execute_result"
    }
   ],
   "source": [
    "top_airports_origin_df = flight_df.groupby('origin_city_name')['id'].count().sort_values(ascending=False)\n",
    "top_airports_origin_df"
   ]
  },
  {
   "cell_type": "markdown",
   "metadata": {},
   "source": [
    " Tutaj wyznacz ramkę `top_airports_destination_df`"
   ]
  },
  {
   "cell_type": "code",
   "execution_count": 12,
   "metadata": {},
   "outputs": [
    {
     "data": {
      "text/plain": [
       "destination_city_name\n",
       "Atlanta, GA              122945\n",
       "Chicago, IL              100333\n",
       "Los Angeles, CA           87776\n",
       "New York, NY              75769\n",
       "Denver, CO                64602\n",
       "Boston, MA                56057\n",
       "Seattle, WA               50230\n",
       "San Francisco, CA         49999\n",
       "Dallas/Fort Worth, TX     39488\n",
       "Las Vegas, NV             38494\n",
       "Phoenix, AZ               36499\n",
       "Burbank, CA               30534\n",
       "Washington, DC            29759\n",
       "San Diego, CA             24926\n",
       "Newark, NJ                24227\n",
       "Orlando, FL               21760\n",
       "Philadelphia, PA          19573\n",
       "Midland/Odessa, TX        13055\n",
       "Miami, FL                 12613\n",
       "Salt Lake City, UT        12504\n",
       "Baltimore, MD             12163\n",
       "Charlotte, NC             12016\n",
       "Honolulu, HI              11225\n",
       "Kahului, HI               10725\n",
       "Fort Lauderdale, FL        8628\n",
       "Kona, HI                   7803\n",
       "Anchorage, AK              7199\n",
       "Tampa, FL                  7157\n",
       "Lihue, HI                  6940\n",
       "Detroit, MI                6619\n",
       "San Jose, CA               6328\n",
       "Houston, TX                6057\n",
       "Dallas, TX                 6052\n",
       "Sacramento, CA             5850\n",
       "Cincinnati, OH             5374\n",
       "New Orleans, LA            5331\n",
       "Raleigh/Durham, NC         5293\n",
       "San Juan, PR               5206\n",
       "Myrtle Beach, SC           5185\n",
       "Name: id, dtype: int64"
      ]
     },
     "execution_count": 12,
     "metadata": {},
     "output_type": "execute_result"
    }
   ],
   "source": [
    "top_airports_destination_df = flight_df.groupby('destination_city_name')['id'].count().sort_values(ascending=False)\n",
    "top_airports_destination_df"
   ]
  },
  {
   "cell_type": "markdown",
   "metadata": {},
   "source": [
    " ### Sprawdzenie dla `top_airport_origin`"
   ]
  },
  {
   "cell_type": "code",
   "execution_count": null,
   "metadata": {},
   "outputs": [],
   "source": []
  },
  {
   "cell_type": "markdown",
   "metadata": {},
   "source": [
    "### Sprawdzenie dla `top_airport_destination`"
   ]
  },
  {
   "cell_type": "code",
   "execution_count": 13,
   "metadata": {},
   "outputs": [],
   "source": [
    "top_airports_destination_head = (top_airports_destination_df\n",
    "                                 .sort_values(ascending=False)\n",
    "                                 .head()\n",
    "                                 .to_list()\n",
    "                                 )\n",
    "top_airports_destination_head = tuple(top_airports_destination_head)\n",
    "top_airports_destination_head_expected = (122945, 100333, 87776, 75769, 64602)  #poprawiony bład w tescie\n",
    "\n",
    "assert top_airports_destination_head == top_airports_destination_head_expected, f\"Nie zgadza się top 5 wierszy, oczekiwano wyników: {top_airports_destination_head_expected} otrzymano: {top_airports_destination_head}\"\n"
   ]
  },
  {
   "cell_type": "markdown",
   "metadata": {},
   "source": [
    " # Wzbogacenie o dane pogodowe\n",
    " Używając procedury `read_sql_table`, wczytaj tabelę `airport_weather` do ramki `airport_weather_df`. Następnie wykonaj następujące polecenia:  \n",
    " 1. Pozostaw w ramce tylko następujące kolumny: `['station', 'name', 'date', 'prcp', 'snow', 'snwd', 'tmax', 'awnd']`.  \n",
    " 1. Połącz ramki `airport_list_df` wraz z `airport_weather_df` po odpowiedniej kolumnie używając takiego złączenia, aby w wyniku usunąć te wiersze (lotniska), które nie posiadają danych pogodowych. Dodatkowo, upewnij się, że zostanie tylko dodana kolumna `origin_airport_id`."
   ]
  },
  {
   "cell_type": "markdown",
   "metadata": {},
   "source": [
    " Tutaj wczytaj ramkę `airport_weather`"
   ]
  },
  {
   "cell_type": "code",
   "execution_count": 14,
   "metadata": {},
   "outputs": [],
   "source": [
    "airport_weather_df = read_sql_table('airport_weather')\n"
   ]
  },
  {
   "cell_type": "markdown",
   "metadata": {},
   "source": [
    " Tutaj oczyść ramkę `airport_weather_df` z nadmiarowych kolumn"
   ]
  },
  {
   "cell_type": "code",
   "execution_count": 15,
   "metadata": {},
   "outputs": [],
   "source": [
    "airport_weather_df = airport_weather_df.loc[:, ['station', 'name', 'date', 'prcp', 'snow', 'snwd', 'tmax', 'awnd']]\n"
   ]
  },
  {
   "cell_type": "markdown",
   "metadata": {},
   "source": [
    " Tutaj połącz ramki `airport_list_df` oraz `airport_weather_df` aktualizując `airport_weather_df`"
   ]
  },
  {
   "cell_type": "code",
   "execution_count": 16,
   "metadata": {},
   "outputs": [],
   "source": [
    "airport_weather_df = pd.merge(airport_weather_df, airport_list_df[['name', 'origin_airport_id']], on='name', how='inner')"
   ]
  },
  {
   "cell_type": "markdown",
   "metadata": {},
   "source": [
    " ### Sprawdzenie\n",
    " Uruchom kod poniżej, aby sprawdzić, czy ta część została poprawnie wykonana"
   ]
  },
  {
   "cell_type": "code",
   "execution_count": 17,
   "metadata": {},
   "outputs": [],
   "source": [
    "airport_weather_df_expected_shape = (43394, 9)\n",
    "airport_weather_df_shape = airport_weather_df.shape\n",
    "\n",
    "assert airport_weather_df_expected_shape == airport_weather_df_shape, \\\n",
    "  f'Nieodpowiedni wymiar ramki airport_weather_df, oczekiwano (wierszy, kolumn): {airport_weather_df_expected_shape}'\n"
   ]
  },
  {
   "cell_type": "markdown",
   "metadata": {},
   "source": [
    " ## Połączenie `airport_weather_df` oraz `flight_df`\n",
    " W celu złączenia ramek `airport_weather_df` oraz `flight_df` wykonaj następujące kroki:  \n",
    " 1. w ramce `aiport_weather_df` występuje kolumna `date`, zrzutuj ją na typ `DATETIME`.  \n",
    " 1. w ramce `flight_df` należy stworzyć nową kolumnę o nazwie `date`. W tym celu:  \n",
    " \t- złącz kolumny `month`, `day_of_month` oraz `year` razem, użyj następującego formatu daty: `YYYY-MM-DD`.\n",
    " \t- zrzutuj kolumnę `date` na typ `DATETIME`.  \n",
    " 1. złącz ramki używając odpowiedniego klucza, wynik złączenia zapisz do ramki `flight_df`. Użyj złącznia typu `LEFT JOIN`.\n",
    "\n",
    " > Dlaczego istotne jest zachowanie typów przy złączeniu?\n",
    "\n",
    "W trakcie pracy możesz posłużyć się następującymi artykułami z `LMS`:\n",
    " - `Python - analiza danych > Dzień 6 - Pandas > Merge`\n",
    " - `Python - analiza danych > Dzień 6 - Pandas > Praca z datetime`\n",
    " - Dokumentacje metody `to_datetime`: [klik](https://pandas.pydata.org/docs/reference/api/pandas.to_datetime.html)\n",
    " - Dostępne formaty dat: [klik](https://www.programiz.com/python-programming/datetime/strftime) - sekcja `Format Code List`"
   ]
  },
  {
   "cell_type": "markdown",
   "metadata": {},
   "source": [
    " Tutaj zrzutuj kolumnę `date` na `DATETIME` w ramce `airport_weather_df`"
   ]
  },
  {
   "cell_type": "code",
   "execution_count": 18,
   "metadata": {},
   "outputs": [],
   "source": [
    "from datetime import date"
   ]
  },
  {
   "cell_type": "code",
   "execution_count": 19,
   "metadata": {},
   "outputs": [],
   "source": [
    "airport_weather_df['date'] = pd.to_datetime(airport_weather_df['date'], format='%Y-%m-%d')\n"
   ]
  },
  {
   "cell_type": "markdown",
   "metadata": {},
   "source": [
    " Tutaj stwórz kolumnę `date` w ramce `flight_df`. Pamiętaj, aby była ona również typu `DATETIME`."
   ]
  },
  {
   "cell_type": "code",
   "execution_count": 20,
   "metadata": {},
   "outputs": [],
   "source": [
    "flight_dates = flight_df['year'].astype(str) + '-' + flight_df['month'].astype(str) + '-' + flight_df['day_of_month'].astype(str)\n",
    "flight_df['date'] = pd.to_datetime(flight_dates, format='%Y-%m-%d')"
   ]
  },
  {
   "cell_type": "markdown",
   "metadata": {},
   "source": [
    " Tutaj złącz tabeli `airport_weather_df` oraz `flight_df`"
   ]
  },
  {
   "cell_type": "code",
   "execution_count": 21,
   "metadata": {},
   "outputs": [
    {
     "name": "stdout",
     "output_type": "stream",
     "text": [
      "Index(['station', 'name', 'date', 'prcp', 'snow', 'snwd', 'tmax', 'awnd',\n",
      "       'origin_airport_id'],\n",
      "      dtype='object')\n",
      "Index(['id', 'month', 'day_of_month', 'day_of_week', 'op_unique_carrier',\n",
      "       'tail_num', 'op_carrier_fl_num', 'origin_airport_id', 'dest_airport_id',\n",
      "       'crs_dep_time', 'dep_time', 'dep_delay', 'dep_time_blk', 'crs_arr_time',\n",
      "       'arr_time', 'arr_delay_new', 'arr_time_blk', 'cancelled',\n",
      "       'crs_elapsed_time', 'actual_elapsed_time', 'distance', 'distance_group',\n",
      "       'carrier_delay', 'weather_delay', 'nas_delay', 'security_delay',\n",
      "       'late_aircraft_delay', 'year', 'is_delayed', 'is_weekend',\n",
      "       'distance_agg', 'manufacture_year', 'manufacture_year_agg',\n",
      "       'origin_city_name', 'destination_city_name', 'date'],\n",
      "      dtype='object')\n"
     ]
    }
   ],
   "source": [
    "print(airport_weather_df.columns)\n",
    "print(flight_df.columns)"
   ]
  },
  {
   "cell_type": "code",
   "execution_count": 22,
   "metadata": {},
   "outputs": [],
   "source": [
    "flight_df = pd.merge(flight_df, airport_weather_df, on=['origin_airport_id','date'], how='left')\n"
   ]
  },
  {
   "cell_type": "markdown",
   "metadata": {},
   "source": [
    " ### Sprawdzenie\n",
    " Uruchom kod poniżej, aby sprawdzić, czy ta część została poprawnie wykonana"
   ]
  },
  {
   "cell_type": "code",
   "execution_count": 23,
   "metadata": {},
   "outputs": [],
   "source": [
    "flight_df_expected_rows_amount = 1057391\n",
    "assert flight_df.shape[0] == flight_df_expected_rows_amount, 'Ups, zmieniła się liczba wierszy...'\n"
   ]
  },
  {
   "cell_type": "markdown",
   "metadata": {},
   "source": [
    "# Praca samodzielna\n",
    "Używając `flight_df` zbadaj hipotezę o tym, że temperatura maksymalna wpływa na **odsetek** opóźnień lotów (kolumna `tmax`).  \n",
    "\n",
    "Przy wykonywaniu tego zadania masz pełną dowolność, jednak powinno składać się conajmniej z następujących elementów:\n",
    "- sprawdzenie, czy zmienna posiada obserwacje odstające,\n",
    "- oczyszczenie danych o ile konieczne,\n",
    "- przedstawienie w formie tabeli czy wzrost danej zmiennej powoduje zmianę w odsetku opóźnień lotów,\n",
    "- wizualizację stworzonej wcześniej tabeli w formie wykresu,\n",
    "- krótkiego opisu wyników w komórce markdown."
   ]
  },
  {
   "cell_type": "markdown",
   "metadata": {},
   "source": [
    " ## Analiza dla kolumny `tmax`"
   ]
  },
  {
   "cell_type": "code",
   "execution_count": 24,
   "metadata": {},
   "outputs": [
    {
     "data": {
      "text/plain": [
       "count    1051956.0\n",
       "mean          70.0\n",
       "std           18.0\n",
       "min          -10.0\n",
       "25%           59.0\n",
       "50%           72.0\n",
       "75%           84.0\n",
       "max          115.0\n",
       "Name: tmax, dtype: float64"
      ]
     },
     "execution_count": 24,
     "metadata": {},
     "output_type": "execute_result"
    }
   ],
   "source": [
    "flight_df['tmax'].describe().round(0)"
   ]
  },
  {
   "cell_type": "code",
   "execution_count": 25,
   "metadata": {},
   "outputs": [
    {
     "data": {
      "text/plain": [
       "0"
      ]
     },
     "execution_count": 25,
     "metadata": {},
     "output_type": "execute_result"
    }
   ],
   "source": [
    "flight_df_tmax_cleared = flight_df.dropna(subset=['tmax'])\n",
    "flight_df_tmax_cleared['tmax'].isnull().sum()"
   ]
  },
  {
   "cell_type": "code",
   "execution_count": 26,
   "metadata": {},
   "outputs": [],
   "source": [
    "values_count = flight_df_tmax_cleared['tmax'].value_counts(ascending=True)\n",
    "vlaue_of_percentile_5 = values_count.quantile(0.05)"
   ]
  },
  {
   "cell_type": "code",
   "execution_count": 27,
   "metadata": {},
   "outputs": [
    {
     "data": {
      "text/plain": [
       "tmax\n",
       "67.0     26785\n",
       "75.0     25499\n",
       "73.0     25361\n",
       "72.0     24557\n",
       "89.0     24314\n",
       "         ...  \n",
       "13.0       307\n",
       "113.0      300\n",
       "5.0        295\n",
       "14.0       233\n",
       "16.0       219\n",
       "Name: id, Length: 106, dtype: int64"
      ]
     },
     "execution_count": 27,
     "metadata": {},
     "output_type": "execute_result"
    }
   ],
   "source": [
    "flight_df_tmax_number_of_flights = flight_df_tmax_cleared.groupby('tmax')['id'].count().sort_values(ascending=False)\n",
    "tmax_number_of_flights_cleared = flight_df_tmax_number_of_flights[flight_df_tmax_number_of_flights > vlaue_of_percentile_5]\n",
    "tmax_number_of_flights_cleared"
   ]
  },
  {
   "cell_type": "code",
   "execution_count": 28,
   "metadata": {},
   "outputs": [
    {
     "data": {
      "text/html": [
       "<div>\n",
       "<style scoped>\n",
       "    .dataframe tbody tr th:only-of-type {\n",
       "        vertical-align: middle;\n",
       "    }\n",
       "\n",
       "    .dataframe tbody tr th {\n",
       "        vertical-align: top;\n",
       "    }\n",
       "\n",
       "    .dataframe thead th {\n",
       "        text-align: right;\n",
       "    }\n",
       "</style>\n",
       "<table border=\"1\" class=\"dataframe\">\n",
       "  <thead>\n",
       "    <tr style=\"text-align: right;\">\n",
       "      <th></th>\n",
       "      <th>is_delayed</th>\n",
       "    </tr>\n",
       "    <tr>\n",
       "      <th>tmax</th>\n",
       "      <th></th>\n",
       "    </tr>\n",
       "  </thead>\n",
       "  <tbody>\n",
       "    <tr>\n",
       "      <th>5.0</th>\n",
       "      <td>0.477966</td>\n",
       "    </tr>\n",
       "    <tr>\n",
       "      <th>10.0</th>\n",
       "      <td>0.369748</td>\n",
       "    </tr>\n",
       "    <tr>\n",
       "      <th>11.0</th>\n",
       "      <td>0.224684</td>\n",
       "    </tr>\n",
       "    <tr>\n",
       "      <th>12.0</th>\n",
       "      <td>0.267164</td>\n",
       "    </tr>\n",
       "    <tr>\n",
       "      <th>13.0</th>\n",
       "      <td>0.273616</td>\n",
       "    </tr>\n",
       "    <tr>\n",
       "      <th>...</th>\n",
       "      <td>...</td>\n",
       "    </tr>\n",
       "    <tr>\n",
       "      <th>110.0</th>\n",
       "      <td>0.190940</td>\n",
       "    </tr>\n",
       "    <tr>\n",
       "      <th>111.0</th>\n",
       "      <td>0.168142</td>\n",
       "    </tr>\n",
       "    <tr>\n",
       "      <th>112.0</th>\n",
       "      <td>0.164619</td>\n",
       "    </tr>\n",
       "    <tr>\n",
       "      <th>113.0</th>\n",
       "      <td>0.166667</td>\n",
       "    </tr>\n",
       "    <tr>\n",
       "      <th>114.0</th>\n",
       "      <td>0.192177</td>\n",
       "    </tr>\n",
       "  </tbody>\n",
       "</table>\n",
       "<p>106 rows × 1 columns</p>\n",
       "</div>"
      ],
      "text/plain": [
       "       is_delayed\n",
       "tmax             \n",
       "5.0      0.477966\n",
       "10.0     0.369748\n",
       "11.0     0.224684\n",
       "12.0     0.267164\n",
       "13.0     0.273616\n",
       "...           ...\n",
       "110.0    0.190940\n",
       "111.0    0.168142\n",
       "112.0    0.164619\n",
       "113.0    0.166667\n",
       "114.0    0.192177\n",
       "\n",
       "[106 rows x 1 columns]"
      ]
     },
     "execution_count": 28,
     "metadata": {},
     "output_type": "execute_result"
    }
   ],
   "source": [
    "flight_tmax_delays_df = flight_df_tmax_cleared[flight_df_tmax_cleared['tmax'].isin(tmax_number_of_flights_cleared.index)].groupby('tmax')['is_delayed'].mean()\n",
    "flight_tmax_delays_df.to_frame()\n"
   ]
  },
  {
   "cell_type": "code",
   "execution_count": 51,
   "metadata": {},
   "outputs": [
    {
     "data": {
      "image/png": "[encoded data removed]",
      "text/plain": [
       "<Figure size 2000x600 with 1 Axes>"
      ]
     },
     "metadata": {},
     "output_type": "display_data"
    }
   ],
   "source": [
    "plt.figure(figsize=(20, 6))\n",
    "plt.bar(flight_tmax_delays_df.index, flight_tmax_delays_df)\n",
    "plt.xticks(np.arange(0, 120, 5))\n",
    "plt.xlabel(\"Temperature (Fahrenheit)\")\n",
    "plt.ylabel(\"Delay ratio\")\n",
    "plt.title(\"Delay ratio by temperature\")\n",
    "plt.axhline(y=flight_tmax_delays_df.mean(), color='r', linestyle='-')\n",
    "plt.text(119, flight_tmax_delays_df.mean(), 'Average delay ratio' ,ha='right', va='bottom', color='r')\n",
    "plt.show()"
   ]
  },
  {
   "cell_type": "markdown",
   "metadata": {},
   "source": [
    "### Z danych wynika, że im nizsza temperatura tym opóźnienie w starcie samolotu jest większe. Prawdopodbnie zwiazane jest to z dodatkowymi czynnościami obsługowymi jak np odladzanie."
   ]
  },
  {
   "cell_type": "markdown",
   "metadata": {},
   "source": [
    "# Podsumowanie\n",
    "W tej części warsztatu dokonaliśmy kompleksowej analizy posiadanego zbioru danych. Eksploracja\n",
    "pozwoliła nam na zapoznanie się z cechami charakterystycznymi lotów - wiemy już, które \n",
    "zmienne mogą mieć wpływ na opóźnienia lotów, a które nie. Co warto podkreślić, skupiliśmy się na wielu\n",
    "aspektach tej analizy, co otwiera potencjalnie również inne możliwości dalszej pracy nad tą bazą.\n",
    "\n",
    "W tym momencie przejdziemy do kolejnego kroku, w którym, na podstawie tej analizy, przygotujemy \n",
    "system raportowy. Zanim jednak stworzymy dashboard, potrzebujemy zaktualizować naszą bazę danych."
   ]
  }
 ],
 "metadata": {
  "kernelspec": {
   "display_name": "Python 3 (ipykernel)",
   "language": "python",
   "name": "python3"
  },
  "language_info": {
   "codemirror_mode": {
    "name": "ipython",
    "version": 3
   },
   "file_extension": ".py",
   "mimetype": "text/x-python",
   "name": "python",
   "nbconvert_exporter": "python",
   "pygments_lexer": "ipython3",
   "version": "3.12.0"
  },
  "vscode": {
   "interpreter": {
    "hash": "38d75d0df746d7f75dd34c5d1915af59cb55786647bd68b8d9064425d7680b12"
   }
  }
 },
 "nbformat": 4,
 "nbformat_minor": 2
}
