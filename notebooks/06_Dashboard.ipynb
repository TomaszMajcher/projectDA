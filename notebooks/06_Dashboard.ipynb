{
 "cells": [
  {
   "cell_type": "markdown",
   "metadata": {},
   "source": [
    " # Opis zadania\n",
    " W tym notatniku stworzymy system analityczno-raportowy, mający wspomagać przyszłe decyzje biznesowe. Dzięki przeprowadzonej wcześniej analizie eksploracyjnej danych, w trakcie spotkania prezentującego wykonaną pracę postanowiono w pierwszym kroku stworzyć następujące wizualizacje danych:\n",
    " - Wyświetlenie TOP 10 tras samolotów pod względem najniższego odsetka opóźnień w formie tabeli,\n",
    " - Wyświetlenie porównania roku 2019 oraz 2020 w formie wykresu słupkowego:\n",
    "     - miesiąc do miesiąca,\n",
    "     - dzień tygodnia do dnia tygodnia,\n",
    " - Wyświetlenie danych dzień po dniu w formie szeregu czasowego.\n",
    "\n",
    "Raport powinien składać się z trzech stron - `TOP report`, `Comparision` i `Day by day reliability`.\n",
    "\n",
    "Pracując na podstawie wcześniej zdefiniowanych widoków, nie musimy się tutaj martwić o przetwarzanie oraz procesowanie danych. Co więcej, wszystkie niuanse techniczne w postaci liczby wierszy, wykonywanych złączeń, filtracji są przeniesione na bazę danych. Z technicznego punktu widzenia, pomiędzy serwisem a bazą danych dochodzi do przesyłania mniejszej ilości danych.\n",
    "\n",
    "Dopuszczamy jednak pewne aktualizacje co do ich struktury przykładowo poprzez _pivotowanie_, czyli obranie i doprowadzanie do postaci tej znanej z tabel przestawnych.\n",
    "\n",
    "> **Uwaga:**  \n",
    "> Przy pracy nad poprawkami w dashboardzie, pamiętaj, że aby odświeżyć stronę po wprowadzonych zmianach, należy **całość** uruchomić ponownie.\n",
    "\n",
    "W tej części projektu końcowego wcielasz się ponownie w rolę BI Developera, który ma za zadanie stworzyć dashboard zgodny z wytycznymi biznesowymi dostarczonymi przez klienta. Pamiętaj, że osoba na tym stanowisku często ma kontakt z biznesem więc musi umieć przekazać informację o danych, które zawarła na dashboardzie by te zaangażowały odbiorców.\n"
   ]
  },
  {
   "cell_type": "markdown",
   "metadata": {},
   "source": [
    " Tutaj zaimportuj potrzebne biblioteki"
   ]
  },
  {
   "cell_type": "code",
   "execution_count": 94,
   "metadata": {},
   "outputs": [],
   "source": [
    "\n",
    "import psycopg2 as pg\n",
    "import pandas as pd\n",
    "import plotly.express as px\n",
    "import calendar\n",
    "import dash\n",
    "import threading\n",
    "\n",
    "\n",
    "from dash import dcc\n",
    "from dash import html\n",
    "from dash.dependencies import Input, Output\n",
    "from dash import dash_table"
   ]
  },
  {
   "cell_type": "markdown",
   "metadata": {},
   "source": [
    " ## Konfiguracja połączenia\n",
    " Tutaj uzupełnij konfigurację połączenia"
   ]
  },
  {
   "cell_type": "code",
   "execution_count": 95,
   "metadata": {},
   "outputs": [],
   "source": [
    "username = 'postgres'\n",
    "password = 'Wawa2023'\n",
    "\n",
    "host = 'localhost'\n",
    "database = 'airlines'\n",
    "port = 5432"
   ]
  },
  {
   "cell_type": "markdown",
   "metadata": {},
   "source": [
    " Tutaj zdefiniuj zmienną `con` oraz `cursor`"
   ]
  },
  {
   "cell_type": "code",
   "execution_count": 96,
   "metadata": {},
   "outputs": [],
   "source": [
    "con = pg.connect(database=database, user=username, host=host, password=password, port=port)\n",
    "cursor = con.cursor()"
   ]
  },
  {
   "cell_type": "markdown",
   "metadata": {},
   "source": [
    " # Stworzenie tabeli dla `TOP 10 routes`\n",
    " W tym miejscu przygotujemy tabelkę oraz komponent, który zostanie następnie umieszczony w raporcie. Tabela powinna się składać z następujących kolumn:\n",
    " - Origin,\n",
    " - Destination,\n",
    " - Year,\n",
    " - Reliability,\n",
    " - Rank.\n",
    "\n",
    "Wartości procentowe zaś powinny być postaci np. 13.87%.\n",
    "\n",
    "Z tego względu konieczna będzie zmiana nazw kolumn dla wyników raportowania.\n",
    "\n",
    "Wskazówki:\n",
    " - `Python - analiza danych > Dzień 5 - Pandas > Obróbka danych - część 2 > apply`,\n",
    " - [How to format percentage in python](https://stackoverflow.com/questions/5306756/how-to-print-a-percentage-value-in-python)."
   ]
  },
  {
   "cell_type": "markdown",
   "metadata": {},
   "source": [
    " Tutaj zaczytaj dane do ramki danych `top_routes_df` z widoku `reporting.top_reliability_roads`\n",
    " > Jeśli pojawi się komunikat `UserWarning: pandas only support SQLAlchemy`, z naszego punktu widzenia, możemy go śmiało zignorować."
   ]
  },
  {
   "cell_type": "code",
   "execution_count": 97,
   "metadata": {},
   "outputs": [
    {
     "name": "stderr",
     "output_type": "stream",
     "text": [
      "C:\\Users\\Home\\AppData\\Local\\Temp\\ipykernel_15300\\2115013962.py:1: UserWarning:\n",
      "\n",
      "pandas only supports SQLAlchemy connectable (engine/connection) or database string URI or sqlite3 DBAPI2 connection. Other DBAPI2 objects are not tested. Please consider using SQLAlchemy.\n",
      "\n"
     ]
    },
    {
     "data": {
      "text/html": [
       "<div>\n",
       "<style scoped>\n",
       "    .dataframe tbody tr th:only-of-type {\n",
       "        vertical-align: middle;\n",
       "    }\n",
       "\n",
       "    .dataframe tbody tr th {\n",
       "        vertical-align: top;\n",
       "    }\n",
       "\n",
       "    .dataframe thead th {\n",
       "        text-align: right;\n",
       "    }\n",
       "</style>\n",
       "<table border=\"1\" class=\"dataframe\">\n",
       "  <thead>\n",
       "    <tr style=\"text-align: right;\">\n",
       "      <th></th>\n",
       "      <th>origin_airport_id</th>\n",
       "      <th>origin_airport_name</th>\n",
       "      <th>dest_airport_id</th>\n",
       "      <th>dest_airport_name</th>\n",
       "      <th>year</th>\n",
       "      <th>cnt</th>\n",
       "      <th>reliability</th>\n",
       "      <th>nb</th>\n",
       "    </tr>\n",
       "  </thead>\n",
       "  <tbody>\n",
       "    <tr>\n",
       "      <th>0</th>\n",
       "      <td>12173</td>\n",
       "      <td>LOS ANGELES INTERNATIONAL AIRPORT, CA US</td>\n",
       "      <td>13830</td>\n",
       "      <td>HONOLULU INTERNATIONAL AIRPORT, HI US</td>\n",
       "      <td>2019</td>\n",
       "      <td>10735</td>\n",
       "      <td>0.25</td>\n",
       "      <td>1</td>\n",
       "    </tr>\n",
       "    <tr>\n",
       "      <th>1</th>\n",
       "      <td>13830</td>\n",
       "      <td>HONOLULU INTERNATIONAL AIRPORT, HI US</td>\n",
       "      <td>12173</td>\n",
       "      <td>LOS ANGELES INTERNATIONAL AIRPORT, CA US</td>\n",
       "      <td>2019</td>\n",
       "      <td>10738</td>\n",
       "      <td>0.27</td>\n",
       "      <td>2</td>\n",
       "    </tr>\n",
       "    <tr>\n",
       "      <th>2</th>\n",
       "      <td>12478</td>\n",
       "      <td>LAGUARDIA AIRPORT, NY US</td>\n",
       "      <td>12892</td>\n",
       "      <td>LOS ANGELES INTERNATIONAL AIRPORT, CA US</td>\n",
       "      <td>2019</td>\n",
       "      <td>12804</td>\n",
       "      <td>0.27</td>\n",
       "      <td>2</td>\n",
       "    </tr>\n",
       "    <tr>\n",
       "      <th>3</th>\n",
       "      <td>14771</td>\n",
       "      <td>SAN FRANCISCO INTERNATIONAL AIRPORT, CA US</td>\n",
       "      <td>12892</td>\n",
       "      <td>LOS ANGELES INTERNATIONAL AIRPORT, CA US</td>\n",
       "      <td>2019</td>\n",
       "      <td>14614</td>\n",
       "      <td>0.33</td>\n",
       "      <td>3</td>\n",
       "    </tr>\n",
       "    <tr>\n",
       "      <th>4</th>\n",
       "      <td>10721</td>\n",
       "      <td>BOSTON, MA US</td>\n",
       "      <td>12953</td>\n",
       "      <td>LAGUARDIA AIRPORT, NY US</td>\n",
       "      <td>2019</td>\n",
       "      <td>10303</td>\n",
       "      <td>0.34</td>\n",
       "      <td>4</td>\n",
       "    </tr>\n",
       "    <tr>\n",
       "      <th>5</th>\n",
       "      <td>12953</td>\n",
       "      <td>LAGUARDIA AIRPORT, NY US</td>\n",
       "      <td>10721</td>\n",
       "      <td>BOSTON, MA US</td>\n",
       "      <td>2019</td>\n",
       "      <td>10309</td>\n",
       "      <td>0.34</td>\n",
       "      <td>4</td>\n",
       "    </tr>\n",
       "    <tr>\n",
       "      <th>6</th>\n",
       "      <td>12892</td>\n",
       "      <td>LOS ANGELES INTERNATIONAL AIRPORT, CA US</td>\n",
       "      <td>14771</td>\n",
       "      <td>SAN FRANCISCO INTERNATIONAL AIRPORT, CA US</td>\n",
       "      <td>2019</td>\n",
       "      <td>14630</td>\n",
       "      <td>0.35</td>\n",
       "      <td>5</td>\n",
       "    </tr>\n",
       "    <tr>\n",
       "      <th>7</th>\n",
       "      <td>12953</td>\n",
       "      <td>LAGUARDIA AIRPORT, NY US</td>\n",
       "      <td>13930</td>\n",
       "      <td>CHICAGO OHARE INTERNATIONAL AIRPORT, IL US</td>\n",
       "      <td>2019</td>\n",
       "      <td>14699</td>\n",
       "      <td>0.35</td>\n",
       "      <td>5</td>\n",
       "    </tr>\n",
       "    <tr>\n",
       "      <th>8</th>\n",
       "      <td>12889</td>\n",
       "      <td>MCCARRAN INTERNATIONAL AIRPORT, NV US</td>\n",
       "      <td>12892</td>\n",
       "      <td>LOS ANGELES INTERNATIONAL AIRPORT, CA US</td>\n",
       "      <td>2019</td>\n",
       "      <td>11718</td>\n",
       "      <td>0.36</td>\n",
       "      <td>6</td>\n",
       "    </tr>\n",
       "    <tr>\n",
       "      <th>9</th>\n",
       "      <td>12892</td>\n",
       "      <td>LOS ANGELES INTERNATIONAL AIRPORT, CA US</td>\n",
       "      <td>12889</td>\n",
       "      <td>MCCARRAN INTERNATIONAL AIRPORT, NV US</td>\n",
       "      <td>2019</td>\n",
       "      <td>11722</td>\n",
       "      <td>0.37</td>\n",
       "      <td>7</td>\n",
       "    </tr>\n",
       "    <tr>\n",
       "      <th>10</th>\n",
       "      <td>12892</td>\n",
       "      <td>LOS ANGELES INTERNATIONAL AIRPORT, CA US</td>\n",
       "      <td>12478</td>\n",
       "      <td>LAGUARDIA AIRPORT, NY US</td>\n",
       "      <td>2019</td>\n",
       "      <td>12862</td>\n",
       "      <td>0.38</td>\n",
       "      <td>8</td>\n",
       "    </tr>\n",
       "    <tr>\n",
       "      <th>11</th>\n",
       "      <td>13930</td>\n",
       "      <td>CHICAGO OHARE INTERNATIONAL AIRPORT, IL US</td>\n",
       "      <td>12953</td>\n",
       "      <td>LAGUARDIA AIRPORT, NY US</td>\n",
       "      <td>2019</td>\n",
       "      <td>14702</td>\n",
       "      <td>0.40</td>\n",
       "      <td>9</td>\n",
       "    </tr>\n",
       "  </tbody>\n",
       "</table>\n",
       "</div>"
      ],
      "text/plain": [
       "    origin_airport_id                         origin_airport_name  \\\n",
       "0               12173    LOS ANGELES INTERNATIONAL AIRPORT, CA US   \n",
       "1               13830       HONOLULU INTERNATIONAL AIRPORT, HI US   \n",
       "2               12478                    LAGUARDIA AIRPORT, NY US   \n",
       "3               14771  SAN FRANCISCO INTERNATIONAL AIRPORT, CA US   \n",
       "4               10721                               BOSTON, MA US   \n",
       "5               12953                    LAGUARDIA AIRPORT, NY US   \n",
       "6               12892    LOS ANGELES INTERNATIONAL AIRPORT, CA US   \n",
       "7               12953                    LAGUARDIA AIRPORT, NY US   \n",
       "8               12889       MCCARRAN INTERNATIONAL AIRPORT, NV US   \n",
       "9               12892    LOS ANGELES INTERNATIONAL AIRPORT, CA US   \n",
       "10              12892    LOS ANGELES INTERNATIONAL AIRPORT, CA US   \n",
       "11              13930  CHICAGO OHARE INTERNATIONAL AIRPORT, IL US   \n",
       "\n",
       "    dest_airport_id                           dest_airport_name  year    cnt  \\\n",
       "0             13830       HONOLULU INTERNATIONAL AIRPORT, HI US  2019  10735   \n",
       "1             12173    LOS ANGELES INTERNATIONAL AIRPORT, CA US  2019  10738   \n",
       "2             12892    LOS ANGELES INTERNATIONAL AIRPORT, CA US  2019  12804   \n",
       "3             12892    LOS ANGELES INTERNATIONAL AIRPORT, CA US  2019  14614   \n",
       "4             12953                    LAGUARDIA AIRPORT, NY US  2019  10303   \n",
       "5             10721                               BOSTON, MA US  2019  10309   \n",
       "6             14771  SAN FRANCISCO INTERNATIONAL AIRPORT, CA US  2019  14630   \n",
       "7             13930  CHICAGO OHARE INTERNATIONAL AIRPORT, IL US  2019  14699   \n",
       "8             12892    LOS ANGELES INTERNATIONAL AIRPORT, CA US  2019  11718   \n",
       "9             12889       MCCARRAN INTERNATIONAL AIRPORT, NV US  2019  11722   \n",
       "10            12478                    LAGUARDIA AIRPORT, NY US  2019  12862   \n",
       "11            12953                    LAGUARDIA AIRPORT, NY US  2019  14702   \n",
       "\n",
       "    reliability  nb  \n",
       "0          0.25   1  \n",
       "1          0.27   2  \n",
       "2          0.27   2  \n",
       "3          0.33   3  \n",
       "4          0.34   4  \n",
       "5          0.34   4  \n",
       "6          0.35   5  \n",
       "7          0.35   5  \n",
       "8          0.36   6  \n",
       "9          0.37   7  \n",
       "10         0.38   8  \n",
       "11         0.40   9  "
      ]
     },
     "execution_count": 97,
     "metadata": {},
     "output_type": "execute_result"
    }
   ],
   "source": [
    "top_routes_df = pd.read_sql(\"SELECT * FROM reporting.top_reliability_roads\", con)\n",
    "top_routes_df"
   ]
  },
  {
   "cell_type": "markdown",
   "metadata": {},
   "source": [
    " Tutaj dokonaj aktualizacji formatu liczbowego dla kolumny `reliability`"
   ]
  },
  {
   "cell_type": "code",
   "execution_count": 98,
   "metadata": {},
   "outputs": [],
   "source": [
    "top_routes_df['reliability'] = top_routes_df['reliability'].apply(lambda x: f\"{x*100:.2f}%\")\n"
   ]
  },
  {
   "cell_type": "markdown",
   "metadata": {},
   "source": [
    " Tutaj odpowiednio dokonaj zmian nazewnictwa kolumn"
   ]
  },
  {
   "cell_type": "code",
   "execution_count": 99,
   "metadata": {},
   "outputs": [
    {
     "data": {
      "text/html": [
       "<div>\n",
       "<style scoped>\n",
       "    .dataframe tbody tr th:only-of-type {\n",
       "        vertical-align: middle;\n",
       "    }\n",
       "\n",
       "    .dataframe tbody tr th {\n",
       "        vertical-align: top;\n",
       "    }\n",
       "\n",
       "    .dataframe thead th {\n",
       "        text-align: right;\n",
       "    }\n",
       "</style>\n",
       "<table border=\"1\" class=\"dataframe\">\n",
       "  <thead>\n",
       "    <tr style=\"text-align: right;\">\n",
       "      <th></th>\n",
       "      <th>Origin</th>\n",
       "      <th>Destination</th>\n",
       "      <th>Year</th>\n",
       "      <th>Reliability</th>\n",
       "      <th>Rank</th>\n",
       "    </tr>\n",
       "  </thead>\n",
       "  <tbody>\n",
       "    <tr>\n",
       "      <th>0</th>\n",
       "      <td>LOS ANGELES INTERNATIONAL AIRPORT, CA US</td>\n",
       "      <td>HONOLULU INTERNATIONAL AIRPORT, HI US</td>\n",
       "      <td>2019</td>\n",
       "      <td>25.00%</td>\n",
       "      <td>1</td>\n",
       "    </tr>\n",
       "    <tr>\n",
       "      <th>1</th>\n",
       "      <td>HONOLULU INTERNATIONAL AIRPORT, HI US</td>\n",
       "      <td>LOS ANGELES INTERNATIONAL AIRPORT, CA US</td>\n",
       "      <td>2019</td>\n",
       "      <td>27.00%</td>\n",
       "      <td>2</td>\n",
       "    </tr>\n",
       "    <tr>\n",
       "      <th>2</th>\n",
       "      <td>LAGUARDIA AIRPORT, NY US</td>\n",
       "      <td>LOS ANGELES INTERNATIONAL AIRPORT, CA US</td>\n",
       "      <td>2019</td>\n",
       "      <td>27.00%</td>\n",
       "      <td>2</td>\n",
       "    </tr>\n",
       "    <tr>\n",
       "      <th>3</th>\n",
       "      <td>SAN FRANCISCO INTERNATIONAL AIRPORT, CA US</td>\n",
       "      <td>LOS ANGELES INTERNATIONAL AIRPORT, CA US</td>\n",
       "      <td>2019</td>\n",
       "      <td>33.00%</td>\n",
       "      <td>3</td>\n",
       "    </tr>\n",
       "    <tr>\n",
       "      <th>4</th>\n",
       "      <td>BOSTON, MA US</td>\n",
       "      <td>LAGUARDIA AIRPORT, NY US</td>\n",
       "      <td>2019</td>\n",
       "      <td>34.00%</td>\n",
       "      <td>4</td>\n",
       "    </tr>\n",
       "    <tr>\n",
       "      <th>5</th>\n",
       "      <td>LAGUARDIA AIRPORT, NY US</td>\n",
       "      <td>BOSTON, MA US</td>\n",
       "      <td>2019</td>\n",
       "      <td>34.00%</td>\n",
       "      <td>4</td>\n",
       "    </tr>\n",
       "    <tr>\n",
       "      <th>6</th>\n",
       "      <td>LOS ANGELES INTERNATIONAL AIRPORT, CA US</td>\n",
       "      <td>SAN FRANCISCO INTERNATIONAL AIRPORT, CA US</td>\n",
       "      <td>2019</td>\n",
       "      <td>35.00%</td>\n",
       "      <td>5</td>\n",
       "    </tr>\n",
       "    <tr>\n",
       "      <th>7</th>\n",
       "      <td>LAGUARDIA AIRPORT, NY US</td>\n",
       "      <td>CHICAGO OHARE INTERNATIONAL AIRPORT, IL US</td>\n",
       "      <td>2019</td>\n",
       "      <td>35.00%</td>\n",
       "      <td>5</td>\n",
       "    </tr>\n",
       "    <tr>\n",
       "      <th>8</th>\n",
       "      <td>MCCARRAN INTERNATIONAL AIRPORT, NV US</td>\n",
       "      <td>LOS ANGELES INTERNATIONAL AIRPORT, CA US</td>\n",
       "      <td>2019</td>\n",
       "      <td>36.00%</td>\n",
       "      <td>6</td>\n",
       "    </tr>\n",
       "    <tr>\n",
       "      <th>9</th>\n",
       "      <td>LOS ANGELES INTERNATIONAL AIRPORT, CA US</td>\n",
       "      <td>MCCARRAN INTERNATIONAL AIRPORT, NV US</td>\n",
       "      <td>2019</td>\n",
       "      <td>37.00%</td>\n",
       "      <td>7</td>\n",
       "    </tr>\n",
       "    <tr>\n",
       "      <th>10</th>\n",
       "      <td>LOS ANGELES INTERNATIONAL AIRPORT, CA US</td>\n",
       "      <td>LAGUARDIA AIRPORT, NY US</td>\n",
       "      <td>2019</td>\n",
       "      <td>38.00%</td>\n",
       "      <td>8</td>\n",
       "    </tr>\n",
       "    <tr>\n",
       "      <th>11</th>\n",
       "      <td>CHICAGO OHARE INTERNATIONAL AIRPORT, IL US</td>\n",
       "      <td>LAGUARDIA AIRPORT, NY US</td>\n",
       "      <td>2019</td>\n",
       "      <td>40.00%</td>\n",
       "      <td>9</td>\n",
       "    </tr>\n",
       "  </tbody>\n",
       "</table>\n",
       "</div>"
      ],
      "text/plain": [
       "                                        Origin  \\\n",
       "0     LOS ANGELES INTERNATIONAL AIRPORT, CA US   \n",
       "1        HONOLULU INTERNATIONAL AIRPORT, HI US   \n",
       "2                     LAGUARDIA AIRPORT, NY US   \n",
       "3   SAN FRANCISCO INTERNATIONAL AIRPORT, CA US   \n",
       "4                                BOSTON, MA US   \n",
       "5                     LAGUARDIA AIRPORT, NY US   \n",
       "6     LOS ANGELES INTERNATIONAL AIRPORT, CA US   \n",
       "7                     LAGUARDIA AIRPORT, NY US   \n",
       "8        MCCARRAN INTERNATIONAL AIRPORT, NV US   \n",
       "9     LOS ANGELES INTERNATIONAL AIRPORT, CA US   \n",
       "10    LOS ANGELES INTERNATIONAL AIRPORT, CA US   \n",
       "11  CHICAGO OHARE INTERNATIONAL AIRPORT, IL US   \n",
       "\n",
       "                                   Destination  Year Reliability  Rank  \n",
       "0        HONOLULU INTERNATIONAL AIRPORT, HI US  2019      25.00%     1  \n",
       "1     LOS ANGELES INTERNATIONAL AIRPORT, CA US  2019      27.00%     2  \n",
       "2     LOS ANGELES INTERNATIONAL AIRPORT, CA US  2019      27.00%     2  \n",
       "3     LOS ANGELES INTERNATIONAL AIRPORT, CA US  2019      33.00%     3  \n",
       "4                     LAGUARDIA AIRPORT, NY US  2019      34.00%     4  \n",
       "5                                BOSTON, MA US  2019      34.00%     4  \n",
       "6   SAN FRANCISCO INTERNATIONAL AIRPORT, CA US  2019      35.00%     5  \n",
       "7   CHICAGO OHARE INTERNATIONAL AIRPORT, IL US  2019      35.00%     5  \n",
       "8     LOS ANGELES INTERNATIONAL AIRPORT, CA US  2019      36.00%     6  \n",
       "9        MCCARRAN INTERNATIONAL AIRPORT, NV US  2019      37.00%     7  \n",
       "10                    LAGUARDIA AIRPORT, NY US  2019      38.00%     8  \n",
       "11                    LAGUARDIA AIRPORT, NY US  2019      40.00%     9  "
      ]
     },
     "execution_count": 99,
     "metadata": {},
     "output_type": "execute_result"
    }
   ],
   "source": [
    "top_routes_df.rename(columns={'origin_airport_name':'Origin', 'dest_airport_name':'Destination', 'year':'Year', 'reliability':'Reliability', 'nb':'Rank'}, inplace=True)\n",
    "top_routes_df_final = top_routes_df[['Origin', 'Destination', 'Year', 'Reliability', 'Rank']]\n",
    "top_routes_df_final"
   ]
  },
  {
   "cell_type": "markdown",
   "metadata": {},
   "source": [
    " # Porównanie rok do roku (YoY) 2019 vs. 2020\n",
    " W tym miejscu stworzymy wykres oraz komponent, który zostanie następnie umieszczony w raporcie. Wykres powinien przedstawiać porównanie lat 2019 oraz 2020 po miesiącach względem zmiennej `reliability`.\n",
    "\n",
    " > Na wykresie chcemy również przedstawić dane, które nie mają porównania tj. od kwietnia do grudnia 2019.\n",
    "\n",
    "W tym celu wykonamy poniższe zadania:\n",
    " - Przekształcimy tabelkę do formy tabeli przestawnej\n",
    " - Stworzymy wykres słupkowy porównujący dane rok do roku\n",
    " - Opakujemy stworzony wykres w komponent `Dash`\n",
    "\n",
    "Wskazówki:\n",
    " - `Wizualizacja danych > Dzień 3 > Dash`,\n",
    " - `Wizualizacja danych > Dzień 1 > Budowanie wykresów plotly`,\n",
    " - `Python - analiza danych > Dzień 6 - Pandas c.d > Pivot`."
   ]
  },
  {
   "cell_type": "markdown",
   "metadata": {},
   "source": [
    " Tutaj pobierz z widoku `reporting.year_to_year_comparision` dane do ramki `yoy_comparision_df`"
   ]
  },
  {
   "cell_type": "code",
   "execution_count": 100,
   "metadata": {},
   "outputs": [
    {
     "name": "stderr",
     "output_type": "stream",
     "text": [
      "C:\\Users\\Home\\AppData\\Local\\Temp\\ipykernel_15300\\2484804727.py:1: UserWarning:\n",
      "\n",
      "pandas only supports SQLAlchemy connectable (engine/connection) or database string URI or sqlite3 DBAPI2 connection. Other DBAPI2 objects are not tested. Please consider using SQLAlchemy.\n",
      "\n"
     ]
    },
    {
     "data": {
      "text/html": [
       "<div>\n",
       "<style scoped>\n",
       "    .dataframe tbody tr th:only-of-type {\n",
       "        vertical-align: middle;\n",
       "    }\n",
       "\n",
       "    .dataframe tbody tr th {\n",
       "        vertical-align: top;\n",
       "    }\n",
       "\n",
       "    .dataframe thead th {\n",
       "        text-align: right;\n",
       "    }\n",
       "</style>\n",
       "<table border=\"1\" class=\"dataframe\">\n",
       "  <thead>\n",
       "    <tr style=\"text-align: right;\">\n",
       "      <th></th>\n",
       "      <th>year</th>\n",
       "      <th>month</th>\n",
       "      <th>flights_amount</th>\n",
       "      <th>reliability</th>\n",
       "    </tr>\n",
       "  </thead>\n",
       "  <tbody>\n",
       "    <tr>\n",
       "      <th>0</th>\n",
       "      <td>2019</td>\n",
       "      <td>January</td>\n",
       "      <td>89455</td>\n",
       "      <td>0.34</td>\n",
       "    </tr>\n",
       "    <tr>\n",
       "      <th>1</th>\n",
       "      <td>2019</td>\n",
       "      <td>February</td>\n",
       "      <td>81574</td>\n",
       "      <td>0.39</td>\n",
       "    </tr>\n",
       "    <tr>\n",
       "      <th>2</th>\n",
       "      <td>2019</td>\n",
       "      <td>March</td>\n",
       "      <td>93862</td>\n",
       "      <td>0.35</td>\n",
       "    </tr>\n",
       "    <tr>\n",
       "      <th>3</th>\n",
       "      <td>2019</td>\n",
       "      <td>April</td>\n",
       "      <td>91434</td>\n",
       "      <td>0.34</td>\n",
       "    </tr>\n",
       "    <tr>\n",
       "      <th>4</th>\n",
       "      <td>2019</td>\n",
       "      <td>May</td>\n",
       "      <td>96097</td>\n",
       "      <td>0.38</td>\n",
       "    </tr>\n",
       "    <tr>\n",
       "      <th>5</th>\n",
       "      <td>2019</td>\n",
       "      <td>June</td>\n",
       "      <td>94948</td>\n",
       "      <td>0.43</td>\n",
       "    </tr>\n",
       "    <tr>\n",
       "      <th>6</th>\n",
       "      <td>2019</td>\n",
       "      <td>July</td>\n",
       "      <td>98042</td>\n",
       "      <td>0.39</td>\n",
       "    </tr>\n",
       "    <tr>\n",
       "      <th>7</th>\n",
       "      <td>2019</td>\n",
       "      <td>August</td>\n",
       "      <td>100496</td>\n",
       "      <td>0.38</td>\n",
       "    </tr>\n",
       "    <tr>\n",
       "      <th>8</th>\n",
       "      <td>2019</td>\n",
       "      <td>September</td>\n",
       "      <td>92090</td>\n",
       "      <td>0.30</td>\n",
       "    </tr>\n",
       "    <tr>\n",
       "      <th>9</th>\n",
       "      <td>2019</td>\n",
       "      <td>October</td>\n",
       "      <td>96566</td>\n",
       "      <td>0.33</td>\n",
       "    </tr>\n",
       "    <tr>\n",
       "      <th>10</th>\n",
       "      <td>2019</td>\n",
       "      <td>November</td>\n",
       "      <td>89734</td>\n",
       "      <td>0.30</td>\n",
       "    </tr>\n",
       "    <tr>\n",
       "      <th>11</th>\n",
       "      <td>2019</td>\n",
       "      <td>December</td>\n",
       "      <td>91529</td>\n",
       "      <td>0.40</td>\n",
       "    </tr>\n",
       "    <tr>\n",
       "      <th>12</th>\n",
       "      <td>2020</td>\n",
       "      <td>January</td>\n",
       "      <td>90938</td>\n",
       "      <td>0.28</td>\n",
       "    </tr>\n",
       "    <tr>\n",
       "      <th>13</th>\n",
       "      <td>2020</td>\n",
       "      <td>February</td>\n",
       "      <td>85530</td>\n",
       "      <td>0.28</td>\n",
       "    </tr>\n",
       "    <tr>\n",
       "      <th>14</th>\n",
       "      <td>2020</td>\n",
       "      <td>March</td>\n",
       "      <td>93825</td>\n",
       "      <td>0.16</td>\n",
       "    </tr>\n",
       "  </tbody>\n",
       "</table>\n",
       "</div>"
      ],
      "text/plain": [
       "    year      month  flights_amount  reliability\n",
       "0   2019    January           89455         0.34\n",
       "1   2019   February           81574         0.39\n",
       "2   2019      March           93862         0.35\n",
       "3   2019      April           91434         0.34\n",
       "4   2019        May           96097         0.38\n",
       "5   2019       June           94948         0.43\n",
       "6   2019       July           98042         0.39\n",
       "7   2019     August          100496         0.38\n",
       "8   2019  September           92090         0.30\n",
       "9   2019    October           96566         0.33\n",
       "10  2019   November           89734         0.30\n",
       "11  2019   December           91529         0.40\n",
       "12  2020    January           90938         0.28\n",
       "13  2020   February           85530         0.28\n",
       "14  2020      March           93825         0.16"
      ]
     },
     "execution_count": 100,
     "metadata": {},
     "output_type": "execute_result"
    }
   ],
   "source": [
    "yoy_comparison_df = pd.read_sql(\"SELECT * FROM reporting.year_to_year_comparision\", con)\n",
    "yoy_comparison_df['month'] = yoy_comparison_df['month'].apply(lambda x: calendar.month_name[x])\n",
    "yoy_comparison_df"
   ]
  },
  {
   "cell_type": "markdown",
   "metadata": {},
   "source": [
    " Tutaj odpowiednio przekształć ramkę, do formy oczekiwanej przez wykres słupkowy. Wyniki zapisz do zmiennej `yoy_comparision_to_plot_df`"
   ]
  },
  {
   "cell_type": "code",
   "execution_count": 101,
   "metadata": {},
   "outputs": [
    {
     "data": {
      "text/html": [
       "<div>\n",
       "<style scoped>\n",
       "    .dataframe tbody tr th:only-of-type {\n",
       "        vertical-align: middle;\n",
       "    }\n",
       "\n",
       "    .dataframe tbody tr th {\n",
       "        vertical-align: top;\n",
       "    }\n",
       "\n",
       "    .dataframe thead th {\n",
       "        text-align: right;\n",
       "    }\n",
       "</style>\n",
       "<table border=\"1\" class=\"dataframe\">\n",
       "  <thead>\n",
       "    <tr style=\"text-align: right;\">\n",
       "      <th>year</th>\n",
       "      <th>2019</th>\n",
       "      <th>2020</th>\n",
       "    </tr>\n",
       "    <tr>\n",
       "      <th>month</th>\n",
       "      <th></th>\n",
       "      <th></th>\n",
       "    </tr>\n",
       "  </thead>\n",
       "  <tbody>\n",
       "    <tr>\n",
       "      <th>January</th>\n",
       "      <td>0.34</td>\n",
       "      <td>0.28</td>\n",
       "    </tr>\n",
       "    <tr>\n",
       "      <th>February</th>\n",
       "      <td>0.39</td>\n",
       "      <td>0.28</td>\n",
       "    </tr>\n",
       "    <tr>\n",
       "      <th>March</th>\n",
       "      <td>0.35</td>\n",
       "      <td>0.16</td>\n",
       "    </tr>\n",
       "    <tr>\n",
       "      <th>April</th>\n",
       "      <td>0.34</td>\n",
       "      <td>NaN</td>\n",
       "    </tr>\n",
       "    <tr>\n",
       "      <th>May</th>\n",
       "      <td>0.38</td>\n",
       "      <td>NaN</td>\n",
       "    </tr>\n",
       "    <tr>\n",
       "      <th>June</th>\n",
       "      <td>0.43</td>\n",
       "      <td>NaN</td>\n",
       "    </tr>\n",
       "    <tr>\n",
       "      <th>July</th>\n",
       "      <td>0.39</td>\n",
       "      <td>NaN</td>\n",
       "    </tr>\n",
       "    <tr>\n",
       "      <th>August</th>\n",
       "      <td>0.38</td>\n",
       "      <td>NaN</td>\n",
       "    </tr>\n",
       "    <tr>\n",
       "      <th>September</th>\n",
       "      <td>0.30</td>\n",
       "      <td>NaN</td>\n",
       "    </tr>\n",
       "    <tr>\n",
       "      <th>October</th>\n",
       "      <td>0.33</td>\n",
       "      <td>NaN</td>\n",
       "    </tr>\n",
       "    <tr>\n",
       "      <th>November</th>\n",
       "      <td>0.30</td>\n",
       "      <td>NaN</td>\n",
       "    </tr>\n",
       "    <tr>\n",
       "      <th>December</th>\n",
       "      <td>0.40</td>\n",
       "      <td>NaN</td>\n",
       "    </tr>\n",
       "  </tbody>\n",
       "</table>\n",
       "</div>"
      ],
      "text/plain": [
       "year       2019  2020\n",
       "month                \n",
       "January    0.34  0.28\n",
       "February   0.39  0.28\n",
       "March      0.35  0.16\n",
       "April      0.34   NaN\n",
       "May        0.38   NaN\n",
       "June       0.43   NaN\n",
       "July       0.39   NaN\n",
       "August     0.38   NaN\n",
       "September  0.30   NaN\n",
       "October    0.33   NaN\n",
       "November   0.30   NaN\n",
       "December   0.40   NaN"
      ]
     },
     "execution_count": 101,
     "metadata": {},
     "output_type": "execute_result"
    }
   ],
   "source": [
    "yoy_comparison_to_plot = pd.pivot(yoy_comparison_df, index='month', columns='year', values='reliability')\n",
    "months_order = list(calendar.month_name)[1:]\n",
    "yoy_comparison_to_plot = yoy_comparison_to_plot.reindex(months_order)\n",
    "yoy_comparison_to_plot"
   ]
  },
  {
   "cell_type": "markdown",
   "metadata": {},
   "source": [
    " Tutaj stwórz odpowiedni wykres, zapisz do na później pod nazwą `yoy_comparision_fig`. Pamiętaj o dobrych praktykach - niech wykres posiada wszystkie opisy oraz opisowe etykiety osi."
   ]
  },
  {
   "cell_type": "code",
   "execution_count": 102,
   "metadata": {},
   "outputs": [
    {
     "data": {
      "application/vnd.plotly.v1+json": {
       "config": {
        "plotlyServerURL": "https://plot.ly"
       },
       "data": [
        {
         "alignmentgroup": "True",
         "hovertemplate": "year=2019<br>month=%{x}<br>value=%{y}<extra></extra>",
         "legendgroup": "2019",
         "marker": {
          "color": "#636efa",
          "pattern": {
           "shape": ""
          }
         },
         "name": "2019",
         "offsetgroup": "2019",
         "orientation": "v",
         "showlegend": true,
         "textposition": "auto",
         "type": "bar",
         "x": [
          "January",
          "February",
          "March",
          "April",
          "May",
          "June",
          "July",
          "August",
          "September",
          "October",
          "November",
          "December"
         ],
         "xaxis": "x",
         "y": [
          0.34,
          0.39,
          0.35,
          0.34,
          0.38,
          0.43,
          0.39,
          0.38,
          0.3,
          0.33,
          0.3,
          0.4
         ],
         "yaxis": "y"
        },
        {
         "alignmentgroup": "True",
         "hovertemplate": "year=2020<br>month=%{x}<br>value=%{y}<extra></extra>",
         "legendgroup": "2020",
         "marker": {
          "color": "#EF553B",
          "pattern": {
           "shape": ""
          }
         },
         "name": "2020",
         "offsetgroup": "2020",
         "orientation": "v",
         "showlegend": true,
         "textposition": "auto",
         "type": "bar",
         "x": [
          "January",
          "February",
          "March",
          "April",
          "May",
          "June",
          "July",
          "August",
          "September",
          "October",
          "November",
          "December"
         ],
         "xaxis": "x",
         "y": [
          0.28,
          0.28,
          0.16,
          null,
          null,
          null,
          null,
          null,
          null,
          null,
          null,
          null
         ],
         "yaxis": "y"
        }
       ],
       "layout": {
        "barmode": "group",
        "legend": {
         "title": {
          "text": "year"
         },
         "tracegroupgap": 0
        },
        "showlegend": true,
        "template": {
         "data": {
          "bar": [
           {
            "error_x": {
             "color": "#2a3f5f"
            },
            "error_y": {
             "color": "#2a3f5f"
            },
            "marker": {
             "line": {
              "color": "white",
              "width": 0.5
             },
             "pattern": {
              "fillmode": "overlay",
              "size": 10,
              "solidity": 0.2
             }
            },
            "type": "bar"
           }
          ],
          "barpolar": [
           {
            "marker": {
             "line": {
              "color": "white",
              "width": 0.5
             },
             "pattern": {
              "fillmode": "overlay",
              "size": 10,
              "solidity": 0.2
             }
            },
            "type": "barpolar"
           }
          ],
          "carpet": [
           {
            "aaxis": {
             "endlinecolor": "#2a3f5f",
             "gridcolor": "#C8D4E3",
             "linecolor": "#C8D4E3",
             "minorgridcolor": "#C8D4E3",
             "startlinecolor": "#2a3f5f"
            },
            "baxis": {
             "endlinecolor": "#2a3f5f",
             "gridcolor": "#C8D4E3",
             "linecolor": "#C8D4E3",
             "minorgridcolor": "#C8D4E3",
             "startlinecolor": "#2a3f5f"
            },
            "type": "carpet"
           }
          ],
          "choropleth": [
           {
            "colorbar": {
             "outlinewidth": 0,
             "ticks": ""
            },
            "type": "choropleth"
           }
          ],
          "contour": [
           {
            "colorbar": {
             "outlinewidth": 0,
             "ticks": ""
            },
            "colorscale": [
             [
              0,
              "#0d0887"
             ],
             [
              0.1111111111111111,
              "#46039f"
             ],
             [
              0.2222222222222222,
              "#7201a8"
             ],
             [
              0.3333333333333333,
              "#9c179e"
             ],
             [
              0.4444444444444444,
              "#bd3786"
             ],
             [
              0.5555555555555556,
              "#d8576b"
             ],
             [
              0.6666666666666666,
              "#ed7953"
             ],
             [
              0.7777777777777778,
              "#fb9f3a"
             ],
             [
              0.8888888888888888,
              "#fdca26"
             ],
             [
              1,
              "#f0f921"
             ]
            ],
            "type": "contour"
           }
          ],
          "contourcarpet": [
           {
            "colorbar": {
             "outlinewidth": 0,
             "ticks": ""
            },
            "type": "contourcarpet"
           }
          ],
          "heatmap": [
           {
            "colorbar": {
             "outlinewidth": 0,
             "ticks": ""
            },
            "colorscale": [
             [
              0,
              "#0d0887"
             ],
             [
              0.1111111111111111,
              "#46039f"
             ],
             [
              0.2222222222222222,
              "#7201a8"
             ],
             [
              0.3333333333333333,
              "#9c179e"
             ],
             [
              0.4444444444444444,
              "#bd3786"
             ],
             [
              0.5555555555555556,
              "#d8576b"
             ],
             [
              0.6666666666666666,
              "#ed7953"
             ],
             [
              0.7777777777777778,
              "#fb9f3a"
             ],
             [
              0.8888888888888888,
              "#fdca26"
             ],
             [
              1,
              "#f0f921"
             ]
            ],
            "type": "heatmap"
           }
          ],
          "heatmapgl": [
           {
            "colorbar": {
             "outlinewidth": 0,
             "ticks": ""
            },
            "colorscale": [
             [
              0,
              "#0d0887"
             ],
             [
              0.1111111111111111,
              "#46039f"
             ],
             [
              0.2222222222222222,
              "#7201a8"
             ],
             [
              0.3333333333333333,
              "#9c179e"
             ],
             [
              0.4444444444444444,
              "#bd3786"
             ],
             [
              0.5555555555555556,
              "#d8576b"
             ],
             [
              0.6666666666666666,
              "#ed7953"
             ],
             [
              0.7777777777777778,
              "#fb9f3a"
             ],
             [
              0.8888888888888888,
              "#fdca26"
             ],
             [
              1,
              "#f0f921"
             ]
            ],
            "type": "heatmapgl"
           }
          ],
          "histogram": [
           {
            "marker": {
             "pattern": {
              "fillmode": "overlay",
              "size": 10,
              "solidity": 0.2
             }
            },
            "type": "histogram"
           }
          ],
          "histogram2d": [
           {
            "colorbar": {
             "outlinewidth": 0,
             "ticks": ""
            },
            "colorscale": [
             [
              0,
              "#0d0887"
             ],
             [
              0.1111111111111111,
              "#46039f"
             ],
             [
              0.2222222222222222,
              "#7201a8"
             ],
             [
              0.3333333333333333,
              "#9c179e"
             ],
             [
              0.4444444444444444,
              "#bd3786"
             ],
             [
              0.5555555555555556,
              "#d8576b"
             ],
             [
              0.6666666666666666,
              "#ed7953"
             ],
             [
              0.7777777777777778,
              "#fb9f3a"
             ],
             [
              0.8888888888888888,
              "#fdca26"
             ],
             [
              1,
              "#f0f921"
             ]
            ],
            "type": "histogram2d"
           }
          ],
          "histogram2dcontour": [
           {
            "colorbar": {
             "outlinewidth": 0,
             "ticks": ""
            },
            "colorscale": [
             [
              0,
              "#0d0887"
             ],
             [
              0.1111111111111111,
              "#46039f"
             ],
             [
              0.2222222222222222,
              "#7201a8"
             ],
             [
              0.3333333333333333,
              "#9c179e"
             ],
             [
              0.4444444444444444,
              "#bd3786"
             ],
             [
              0.5555555555555556,
              "#d8576b"
             ],
             [
              0.6666666666666666,
              "#ed7953"
             ],
             [
              0.7777777777777778,
              "#fb9f3a"
             ],
             [
              0.8888888888888888,
              "#fdca26"
             ],
             [
              1,
              "#f0f921"
             ]
            ],
            "type": "histogram2dcontour"
           }
          ],
          "mesh3d": [
           {
            "colorbar": {
             "outlinewidth": 0,
             "ticks": ""
            },
            "type": "mesh3d"
           }
          ],
          "parcoords": [
           {
            "line": {
             "colorbar": {
              "outlinewidth": 0,
              "ticks": ""
             }
            },
            "type": "parcoords"
           }
          ],
          "pie": [
           {
            "automargin": true,
            "type": "pie"
           }
          ],
          "scatter": [
           {
            "fillpattern": {
             "fillmode": "overlay",
             "size": 10,
             "solidity": 0.2
            },
            "type": "scatter"
           }
          ],
          "scatter3d": [
           {
            "line": {
             "colorbar": {
              "outlinewidth": 0,
              "ticks": ""
             }
            },
            "marker": {
             "colorbar": {
              "outlinewidth": 0,
              "ticks": ""
             }
            },
            "type": "scatter3d"
           }
          ],
          "scattercarpet": [
           {
            "marker": {
             "colorbar": {
              "outlinewidth": 0,
              "ticks": ""
             }
            },
            "type": "scattercarpet"
           }
          ],
          "scattergeo": [
           {
            "marker": {
             "colorbar": {
              "outlinewidth": 0,
              "ticks": ""
             }
            },
            "type": "scattergeo"
           }
          ],
          "scattergl": [
           {
            "marker": {
             "colorbar": {
              "outlinewidth": 0,
              "ticks": ""
             }
            },
            "type": "scattergl"
           }
          ],
          "scattermapbox": [
           {
            "marker": {
             "colorbar": {
              "outlinewidth": 0,
              "ticks": ""
             }
            },
            "type": "scattermapbox"
           }
          ],
          "scatterpolar": [
           {
            "marker": {
             "colorbar": {
              "outlinewidth": 0,
              "ticks": ""
             }
            },
            "type": "scatterpolar"
           }
          ],
          "scatterpolargl": [
           {
            "marker": {
             "colorbar": {
              "outlinewidth": 0,
              "ticks": ""
             }
            },
            "type": "scatterpolargl"
           }
          ],
          "scatterternary": [
           {
            "marker": {
             "colorbar": {
              "outlinewidth": 0,
              "ticks": ""
             }
            },
            "type": "scatterternary"
           }
          ],
          "surface": [
           {
            "colorbar": {
             "outlinewidth": 0,
             "ticks": ""
            },
            "colorscale": [
             [
              0,
              "#0d0887"
             ],
             [
              0.1111111111111111,
              "#46039f"
             ],
             [
              0.2222222222222222,
              "#7201a8"
             ],
             [
              0.3333333333333333,
              "#9c179e"
             ],
             [
              0.4444444444444444,
              "#bd3786"
             ],
             [
              0.5555555555555556,
              "#d8576b"
             ],
             [
              0.6666666666666666,
              "#ed7953"
             ],
             [
              0.7777777777777778,
              "#fb9f3a"
             ],
             [
              0.8888888888888888,
              "#fdca26"
             ],
             [
              1,
              "#f0f921"
             ]
            ],
            "type": "surface"
           }
          ],
          "table": [
           {
            "cells": {
             "fill": {
              "color": "#EBF0F8"
             },
             "line": {
              "color": "white"
             }
            },
            "header": {
             "fill": {
              "color": "#C8D4E3"
             },
             "line": {
              "color": "white"
             }
            },
            "type": "table"
           }
          ]
         },
         "layout": {
          "annotationdefaults": {
           "arrowcolor": "#2a3f5f",
           "arrowhead": 0,
           "arrowwidth": 1
          },
          "autotypenumbers": "strict",
          "coloraxis": {
           "colorbar": {
            "outlinewidth": 0,
            "ticks": ""
           }
          },
          "colorscale": {
           "diverging": [
            [
             0,
             "#8e0152"
            ],
            [
             0.1,
             "#c51b7d"
            ],
            [
             0.2,
             "#de77ae"
            ],
            [
             0.3,
             "#f1b6da"
            ],
            [
             0.4,
             "#fde0ef"
            ],
            [
             0.5,
             "#f7f7f7"
            ],
            [
             0.6,
             "#e6f5d0"
            ],
            [
             0.7,
             "#b8e186"
            ],
            [
             0.8,
             "#7fbc41"
            ],
            [
             0.9,
             "#4d9221"
            ],
            [
             1,
             "#276419"
            ]
           ],
           "sequential": [
            [
             0,
             "#0d0887"
            ],
            [
             0.1111111111111111,
             "#46039f"
            ],
            [
             0.2222222222222222,
             "#7201a8"
            ],
            [
             0.3333333333333333,
             "#9c179e"
            ],
            [
             0.4444444444444444,
             "#bd3786"
            ],
            [
             0.5555555555555556,
             "#d8576b"
            ],
            [
             0.6666666666666666,
             "#ed7953"
            ],
            [
             0.7777777777777778,
             "#fb9f3a"
            ],
            [
             0.8888888888888888,
             "#fdca26"
            ],
            [
             1,
             "#f0f921"
            ]
           ],
           "sequentialminus": [
            [
             0,
             "#0d0887"
            ],
            [
             0.1111111111111111,
             "#46039f"
            ],
            [
             0.2222222222222222,
             "#7201a8"
            ],
            [
             0.3333333333333333,
             "#9c179e"
            ],
            [
             0.4444444444444444,
             "#bd3786"
            ],
            [
             0.5555555555555556,
             "#d8576b"
            ],
            [
             0.6666666666666666,
             "#ed7953"
            ],
            [
             0.7777777777777778,
             "#fb9f3a"
            ],
            [
             0.8888888888888888,
             "#fdca26"
            ],
            [
             1,
             "#f0f921"
            ]
           ]
          },
          "colorway": [
           "#636efa",
           "#EF553B",
           "#00cc96",
           "#ab63fa",
           "#FFA15A",
           "#19d3f3",
           "#FF6692",
           "#B6E880",
           "#FF97FF",
           "#FECB52"
          ],
          "font": {
           "color": "#2a3f5f"
          },
          "geo": {
           "bgcolor": "white",
           "lakecolor": "white",
           "landcolor": "white",
           "showlakes": true,
           "showland": true,
           "subunitcolor": "#C8D4E3"
          },
          "hoverlabel": {
           "align": "left"
          },
          "hovermode": "closest",
          "mapbox": {
           "style": "light"
          },
          "paper_bgcolor": "white",
          "plot_bgcolor": "white",
          "polar": {
           "angularaxis": {
            "gridcolor": "#EBF0F8",
            "linecolor": "#EBF0F8",
            "ticks": ""
           },
           "bgcolor": "white",
           "radialaxis": {
            "gridcolor": "#EBF0F8",
            "linecolor": "#EBF0F8",
            "ticks": ""
           }
          },
          "scene": {
           "xaxis": {
            "backgroundcolor": "white",
            "gridcolor": "#DFE8F3",
            "gridwidth": 2,
            "linecolor": "#EBF0F8",
            "showbackground": true,
            "ticks": "",
            "zerolinecolor": "#EBF0F8"
           },
           "yaxis": {
            "backgroundcolor": "white",
            "gridcolor": "#DFE8F3",
            "gridwidth": 2,
            "linecolor": "#EBF0F8",
            "showbackground": true,
            "ticks": "",
            "zerolinecolor": "#EBF0F8"
           },
           "zaxis": {
            "backgroundcolor": "white",
            "gridcolor": "#DFE8F3",
            "gridwidth": 2,
            "linecolor": "#EBF0F8",
            "showbackground": true,
            "ticks": "",
            "zerolinecolor": "#EBF0F8"
           }
          },
          "shapedefaults": {
           "line": {
            "color": "#2a3f5f"
           }
          },
          "ternary": {
           "aaxis": {
            "gridcolor": "#DFE8F3",
            "linecolor": "#A2B1C6",
            "ticks": ""
           },
           "baxis": {
            "gridcolor": "#DFE8F3",
            "linecolor": "#A2B1C6",
            "ticks": ""
           },
           "bgcolor": "white",
           "caxis": {
            "gridcolor": "#DFE8F3",
            "linecolor": "#A2B1C6",
            "ticks": ""
           }
          },
          "title": {
           "x": 0.05
          },
          "xaxis": {
           "automargin": true,
           "gridcolor": "#EBF0F8",
           "linecolor": "#EBF0F8",
           "ticks": "",
           "title": {
            "standoff": 15
           },
           "zerolinecolor": "#EBF0F8",
           "zerolinewidth": 2
          },
          "yaxis": {
           "automargin": true,
           "gridcolor": "#EBF0F8",
           "linecolor": "#EBF0F8",
           "ticks": "",
           "title": {
            "standoff": 15
           },
           "zerolinecolor": "#EBF0F8",
           "zerolinewidth": 2
          }
         }
        },
        "title": {
         "font": {
          "size": 25
         },
         "text": "Year to Year Reliability Comparison",
         "x": 0.5
        },
        "xaxis": {
         "anchor": "y",
         "domain": [
          0,
          1
         ],
         "title": {
          "text": "Month"
         }
        },
        "yaxis": {
         "anchor": "x",
         "domain": [
          0,
          1
         ],
         "title": {
          "text": "Reliability"
         }
        }
       }
      }
     },
     "metadata": {},
     "output_type": "display_data"
    }
   ],
   "source": [
    "\n",
    "yoy_comparision_fig = px.bar(yoy_comparison_to_plot,\n",
    "                            x=yoy_comparison_to_plot.index,\n",
    "                            y=yoy_comparison_to_plot.columns,\n",
    "                            barmode='group',\n",
    "                            color='year',\n",
    "                            template=\"plotly_white\",\n",
    "                            title='Year to Year Reliability Comparison'\n",
    "                            )                            \n",
    "yoy_comparision_fig.update_layout(showlegend=True, \n",
    "                                  title_x=0.5, \n",
    "                                  title_font=dict(size=25),\n",
    "                                  xaxis_title=\"Month\",\n",
    "                                  yaxis_title=\"Reliability\")\n",
    "yoy_comparision_fig.show()"
   ]
  },
  {
   "cell_type": "markdown",
   "metadata": {},
   "source": [
    " # Porównanie dzień tygodnia do dnia tygodnia (WKoWK) 2019 vs. 2020\n",
    " Wykonaj analogiczne do poprzedniego kroku, używając jednak w tym momencie danych z widoku `reporting.day_to_day_comparision`"
   ]
  },
  {
   "cell_type": "markdown",
   "metadata": {},
   "source": [
    " Tutaj pobierz z widoku `reporting.day_to_day_comparision` dane do ramki `day_to_day_comparision_df`"
   ]
  },
  {
   "cell_type": "code",
   "execution_count": 103,
   "metadata": {},
   "outputs": [
    {
     "name": "stderr",
     "output_type": "stream",
     "text": [
      "C:\\Users\\Home\\AppData\\Local\\Temp\\ipykernel_15300\\4200275071.py:1: UserWarning:\n",
      "\n",
      "pandas only supports SQLAlchemy connectable (engine/connection) or database string URI or sqlite3 DBAPI2 connection. Other DBAPI2 objects are not tested. Please consider using SQLAlchemy.\n",
      "\n"
     ]
    },
    {
     "data": {
      "text/html": [
       "<div>\n",
       "<style scoped>\n",
       "    .dataframe tbody tr th:only-of-type {\n",
       "        vertical-align: middle;\n",
       "    }\n",
       "\n",
       "    .dataframe tbody tr th {\n",
       "        vertical-align: top;\n",
       "    }\n",
       "\n",
       "    .dataframe thead th {\n",
       "        text-align: right;\n",
       "    }\n",
       "</style>\n",
       "<table border=\"1\" class=\"dataframe\">\n",
       "  <thead>\n",
       "    <tr style=\"text-align: right;\">\n",
       "      <th></th>\n",
       "      <th>year</th>\n",
       "      <th>day_of_week</th>\n",
       "      <th>flights_amount</th>\n",
       "    </tr>\n",
       "  </thead>\n",
       "  <tbody>\n",
       "    <tr>\n",
       "      <th>0</th>\n",
       "      <td>2019</td>\n",
       "      <td>Monday</td>\n",
       "      <td>167761</td>\n",
       "    </tr>\n",
       "    <tr>\n",
       "      <th>1</th>\n",
       "      <td>2019</td>\n",
       "      <td>Tuesday</td>\n",
       "      <td>165478</td>\n",
       "    </tr>\n",
       "    <tr>\n",
       "      <th>2</th>\n",
       "      <td>2019</td>\n",
       "      <td>Wednesday</td>\n",
       "      <td>163889</td>\n",
       "    </tr>\n",
       "    <tr>\n",
       "      <th>3</th>\n",
       "      <td>2019</td>\n",
       "      <td>Thursday</td>\n",
       "      <td>166154</td>\n",
       "    </tr>\n",
       "    <tr>\n",
       "      <th>4</th>\n",
       "      <td>2019</td>\n",
       "      <td>Friday</td>\n",
       "      <td>167397</td>\n",
       "    </tr>\n",
       "    <tr>\n",
       "      <th>5</th>\n",
       "      <td>2019</td>\n",
       "      <td>Saturday</td>\n",
       "      <td>129485</td>\n",
       "    </tr>\n",
       "    <tr>\n",
       "      <th>6</th>\n",
       "      <td>2019</td>\n",
       "      <td>Sunday</td>\n",
       "      <td>155663</td>\n",
       "    </tr>\n",
       "    <tr>\n",
       "      <th>7</th>\n",
       "      <td>2020</td>\n",
       "      <td>Monday</td>\n",
       "      <td>40983</td>\n",
       "    </tr>\n",
       "    <tr>\n",
       "      <th>8</th>\n",
       "      <td>2020</td>\n",
       "      <td>Tuesday</td>\n",
       "      <td>39807</td>\n",
       "    </tr>\n",
       "    <tr>\n",
       "      <th>9</th>\n",
       "      <td>2020</td>\n",
       "      <td>Wednesday</td>\n",
       "      <td>39581</td>\n",
       "    </tr>\n",
       "    <tr>\n",
       "      <th>10</th>\n",
       "      <td>2020</td>\n",
       "      <td>Thursday</td>\n",
       "      <td>41086</td>\n",
       "    </tr>\n",
       "    <tr>\n",
       "      <th>11</th>\n",
       "      <td>2020</td>\n",
       "      <td>Friday</td>\n",
       "      <td>41058</td>\n",
       "    </tr>\n",
       "    <tr>\n",
       "      <th>12</th>\n",
       "      <td>2020</td>\n",
       "      <td>Saturday</td>\n",
       "      <td>30545</td>\n",
       "    </tr>\n",
       "    <tr>\n",
       "      <th>13</th>\n",
       "      <td>2020</td>\n",
       "      <td>Sunday</td>\n",
       "      <td>37233</td>\n",
       "    </tr>\n",
       "  </tbody>\n",
       "</table>\n",
       "</div>"
      ],
      "text/plain": [
       "    year day_of_week  flights_amount\n",
       "0   2019      Monday          167761\n",
       "1   2019     Tuesday          165478\n",
       "2   2019   Wednesday          163889\n",
       "3   2019    Thursday          166154\n",
       "4   2019      Friday          167397\n",
       "5   2019    Saturday          129485\n",
       "6   2019      Sunday          155663\n",
       "7   2020      Monday           40983\n",
       "8   2020     Tuesday           39807\n",
       "9   2020   Wednesday           39581\n",
       "10  2020    Thursday           41086\n",
       "11  2020      Friday           41058\n",
       "12  2020    Saturday           30545\n",
       "13  2020      Sunday           37233"
      ]
     },
     "execution_count": 103,
     "metadata": {},
     "output_type": "execute_result"
    }
   ],
   "source": [
    "day_to_day_comparision_df = pd.read_sql(\"SELECT * FROM reporting.day_to_day_comparision\", con)\n",
    "day_to_day_comparision_df['day_of_week'] = day_to_day_comparision_df['day_of_week'].apply(lambda x: calendar.day_name[x-1])\n",
    "day_to_day_comparision_df"
   ]
  },
  {
   "cell_type": "markdown",
   "metadata": {},
   "source": [
    " Tutaj odpowiednio przekształć ramkę, do formy oczekiwanej przez wykres słupkowy. Wyniki zapisz do zmiennej `day_to_day_comparision_to_plot_df`"
   ]
  },
  {
   "cell_type": "code",
   "execution_count": 104,
   "metadata": {},
   "outputs": [
    {
     "data": {
      "text/html": [
       "<div>\n",
       "<style scoped>\n",
       "    .dataframe tbody tr th:only-of-type {\n",
       "        vertical-align: middle;\n",
       "    }\n",
       "\n",
       "    .dataframe tbody tr th {\n",
       "        vertical-align: top;\n",
       "    }\n",
       "\n",
       "    .dataframe thead th {\n",
       "        text-align: right;\n",
       "    }\n",
       "</style>\n",
       "<table border=\"1\" class=\"dataframe\">\n",
       "  <thead>\n",
       "    <tr style=\"text-align: right;\">\n",
       "      <th>year</th>\n",
       "      <th>2019</th>\n",
       "      <th>2020</th>\n",
       "    </tr>\n",
       "    <tr>\n",
       "      <th>day_of_week</th>\n",
       "      <th></th>\n",
       "      <th></th>\n",
       "    </tr>\n",
       "  </thead>\n",
       "  <tbody>\n",
       "    <tr>\n",
       "      <th>Monday</th>\n",
       "      <td>167761</td>\n",
       "      <td>40983</td>\n",
       "    </tr>\n",
       "    <tr>\n",
       "      <th>Tuesday</th>\n",
       "      <td>165478</td>\n",
       "      <td>39807</td>\n",
       "    </tr>\n",
       "    <tr>\n",
       "      <th>Wednesday</th>\n",
       "      <td>163889</td>\n",
       "      <td>39581</td>\n",
       "    </tr>\n",
       "    <tr>\n",
       "      <th>Thursday</th>\n",
       "      <td>166154</td>\n",
       "      <td>41086</td>\n",
       "    </tr>\n",
       "    <tr>\n",
       "      <th>Friday</th>\n",
       "      <td>167397</td>\n",
       "      <td>41058</td>\n",
       "    </tr>\n",
       "    <tr>\n",
       "      <th>Saturday</th>\n",
       "      <td>129485</td>\n",
       "      <td>30545</td>\n",
       "    </tr>\n",
       "    <tr>\n",
       "      <th>Sunday</th>\n",
       "      <td>155663</td>\n",
       "      <td>37233</td>\n",
       "    </tr>\n",
       "  </tbody>\n",
       "</table>\n",
       "</div>"
      ],
      "text/plain": [
       "year           2019   2020\n",
       "day_of_week               \n",
       "Monday       167761  40983\n",
       "Tuesday      165478  39807\n",
       "Wednesday    163889  39581\n",
       "Thursday     166154  41086\n",
       "Friday       167397  41058\n",
       "Saturday     129485  30545\n",
       "Sunday       155663  37233"
      ]
     },
     "execution_count": 104,
     "metadata": {},
     "output_type": "execute_result"
    }
   ],
   "source": [
    "day_to_day_comparision_to_plot_df = pd.pivot(day_to_day_comparision_df, index='day_of_week', columns='year', values='flights_amount')\n",
    "days_order = list(calendar.day_name)\n",
    "day_to_day_comparision_to_plot_df = day_to_day_comparision_to_plot_df.reindex(days_order)\n",
    "day_to_day_comparision_to_plot_df"
   ]
  },
  {
   "cell_type": "markdown",
   "metadata": {},
   "source": [
    " Tutaj stwórz odpowiedni wykres, zapisz do na później pod nazwą `day_to_day_comparision_fig`. Pamiętaj o dobrych praktykach - niech wykres posiada wszystkie opisy oraz opisowe etykiety osi."
   ]
  },
  {
   "cell_type": "code",
   "execution_count": 105,
   "metadata": {},
   "outputs": [
    {
     "data": {
      "application/vnd.plotly.v1+json": {
       "config": {
        "plotlyServerURL": "https://plot.ly"
       },
       "data": [
        {
         "alignmentgroup": "True",
         "hovertemplate": "year=2019<br>day_of_week=%{x}<br>value=%{y}<extra></extra>",
         "legendgroup": "2019",
         "marker": {
          "color": "#636efa",
          "pattern": {
           "shape": ""
          }
         },
         "name": "2019",
         "offsetgroup": "2019",
         "orientation": "v",
         "showlegend": true,
         "textposition": "auto",
         "type": "bar",
         "x": [
          "Monday",
          "Tuesday",
          "Wednesday",
          "Thursday",
          "Friday",
          "Saturday",
          "Sunday"
         ],
         "xaxis": "x",
         "y": [
          167761,
          165478,
          163889,
          166154,
          167397,
          129485,
          155663
         ],
         "yaxis": "y"
        },
        {
         "alignmentgroup": "True",
         "hovertemplate": "year=2020<br>day_of_week=%{x}<br>value=%{y}<extra></extra>",
         "legendgroup": "2020",
         "marker": {
          "color": "#EF553B",
          "pattern": {
           "shape": ""
          }
         },
         "name": "2020",
         "offsetgroup": "2020",
         "orientation": "v",
         "showlegend": true,
         "textposition": "auto",
         "type": "bar",
         "x": [
          "Monday",
          "Tuesday",
          "Wednesday",
          "Thursday",
          "Friday",
          "Saturday",
          "Sunday"
         ],
         "xaxis": "x",
         "y": [
          40983,
          39807,
          39581,
          41086,
          41058,
          30545,
          37233
         ],
         "yaxis": "y"
        }
       ],
       "layout": {
        "barmode": "group",
        "legend": {
         "title": {
          "text": "year"
         },
         "tracegroupgap": 0
        },
        "showlegend": true,
        "template": {
         "data": {
          "bar": [
           {
            "error_x": {
             "color": "#2a3f5f"
            },
            "error_y": {
             "color": "#2a3f5f"
            },
            "marker": {
             "line": {
              "color": "white",
              "width": 0.5
             },
             "pattern": {
              "fillmode": "overlay",
              "size": 10,
              "solidity": 0.2
             }
            },
            "type": "bar"
           }
          ],
          "barpolar": [
           {
            "marker": {
             "line": {
              "color": "white",
              "width": 0.5
             },
             "pattern": {
              "fillmode": "overlay",
              "size": 10,
              "solidity": 0.2
             }
            },
            "type": "barpolar"
           }
          ],
          "carpet": [
           {
            "aaxis": {
             "endlinecolor": "#2a3f5f",
             "gridcolor": "#C8D4E3",
             "linecolor": "#C8D4E3",
             "minorgridcolor": "#C8D4E3",
             "startlinecolor": "#2a3f5f"
            },
            "baxis": {
             "endlinecolor": "#2a3f5f",
             "gridcolor": "#C8D4E3",
             "linecolor": "#C8D4E3",
             "minorgridcolor": "#C8D4E3",
             "startlinecolor": "#2a3f5f"
            },
            "type": "carpet"
           }
          ],
          "choropleth": [
           {
            "colorbar": {
             "outlinewidth": 0,
             "ticks": ""
            },
            "type": "choropleth"
           }
          ],
          "contour": [
           {
            "colorbar": {
             "outlinewidth": 0,
             "ticks": ""
            },
            "colorscale": [
             [
              0,
              "#0d0887"
             ],
             [
              0.1111111111111111,
              "#46039f"
             ],
             [
              0.2222222222222222,
              "#7201a8"
             ],
             [
              0.3333333333333333,
              "#9c179e"
             ],
             [
              0.4444444444444444,
              "#bd3786"
             ],
             [
              0.5555555555555556,
              "#d8576b"
             ],
             [
              0.6666666666666666,
              "#ed7953"
             ],
             [
              0.7777777777777778,
              "#fb9f3a"
             ],
             [
              0.8888888888888888,
              "#fdca26"
             ],
             [
              1,
              "#f0f921"
             ]
            ],
            "type": "contour"
           }
          ],
          "contourcarpet": [
           {
            "colorbar": {
             "outlinewidth": 0,
             "ticks": ""
            },
            "type": "contourcarpet"
           }
          ],
          "heatmap": [
           {
            "colorbar": {
             "outlinewidth": 0,
             "ticks": ""
            },
            "colorscale": [
             [
              0,
              "#0d0887"
             ],
             [
              0.1111111111111111,
              "#46039f"
             ],
             [
              0.2222222222222222,
              "#7201a8"
             ],
             [
              0.3333333333333333,
              "#9c179e"
             ],
             [
              0.4444444444444444,
              "#bd3786"
             ],
             [
              0.5555555555555556,
              "#d8576b"
             ],
             [
              0.6666666666666666,
              "#ed7953"
             ],
             [
              0.7777777777777778,
              "#fb9f3a"
             ],
             [
              0.8888888888888888,
              "#fdca26"
             ],
             [
              1,
              "#f0f921"
             ]
            ],
            "type": "heatmap"
           }
          ],
          "heatmapgl": [
           {
            "colorbar": {
             "outlinewidth": 0,
             "ticks": ""
            },
            "colorscale": [
             [
              0,
              "#0d0887"
             ],
             [
              0.1111111111111111,
              "#46039f"
             ],
             [
              0.2222222222222222,
              "#7201a8"
             ],
             [
              0.3333333333333333,
              "#9c179e"
             ],
             [
              0.4444444444444444,
              "#bd3786"
             ],
             [
              0.5555555555555556,
              "#d8576b"
             ],
             [
              0.6666666666666666,
              "#ed7953"
             ],
             [
              0.7777777777777778,
              "#fb9f3a"
             ],
             [
              0.8888888888888888,
              "#fdca26"
             ],
             [
              1,
              "#f0f921"
             ]
            ],
            "type": "heatmapgl"
           }
          ],
          "histogram": [
           {
            "marker": {
             "pattern": {
              "fillmode": "overlay",
              "size": 10,
              "solidity": 0.2
             }
            },
            "type": "histogram"
           }
          ],
          "histogram2d": [
           {
            "colorbar": {
             "outlinewidth": 0,
             "ticks": ""
            },
            "colorscale": [
             [
              0,
              "#0d0887"
             ],
             [
              0.1111111111111111,
              "#46039f"
             ],
             [
              0.2222222222222222,
              "#7201a8"
             ],
             [
              0.3333333333333333,
              "#9c179e"
             ],
             [
              0.4444444444444444,
              "#bd3786"
             ],
             [
              0.5555555555555556,
              "#d8576b"
             ],
             [
              0.6666666666666666,
              "#ed7953"
             ],
             [
              0.7777777777777778,
              "#fb9f3a"
             ],
             [
              0.8888888888888888,
              "#fdca26"
             ],
             [
              1,
              "#f0f921"
             ]
            ],
            "type": "histogram2d"
           }
          ],
          "histogram2dcontour": [
           {
            "colorbar": {
             "outlinewidth": 0,
             "ticks": ""
            },
            "colorscale": [
             [
              0,
              "#0d0887"
             ],
             [
              0.1111111111111111,
              "#46039f"
             ],
             [
              0.2222222222222222,
              "#7201a8"
             ],
             [
              0.3333333333333333,
              "#9c179e"
             ],
             [
              0.4444444444444444,
              "#bd3786"
             ],
             [
              0.5555555555555556,
              "#d8576b"
             ],
             [
              0.6666666666666666,
              "#ed7953"
             ],
             [
              0.7777777777777778,
              "#fb9f3a"
             ],
             [
              0.8888888888888888,
              "#fdca26"
             ],
             [
              1,
              "#f0f921"
             ]
            ],
            "type": "histogram2dcontour"
           }
          ],
          "mesh3d": [
           {
            "colorbar": {
             "outlinewidth": 0,
             "ticks": ""
            },
            "type": "mesh3d"
           }
          ],
          "parcoords": [
           {
            "line": {
             "colorbar": {
              "outlinewidth": 0,
              "ticks": ""
             }
            },
            "type": "parcoords"
           }
          ],
          "pie": [
           {
            "automargin": true,
            "type": "pie"
           }
          ],
          "scatter": [
           {
            "fillpattern": {
             "fillmode": "overlay",
             "size": 10,
             "solidity": 0.2
            },
            "type": "scatter"
           }
          ],
          "scatter3d": [
           {
            "line": {
             "colorbar": {
              "outlinewidth": 0,
              "ticks": ""
             }
            },
            "marker": {
             "colorbar": {
              "outlinewidth": 0,
              "ticks": ""
             }
            },
            "type": "scatter3d"
           }
          ],
          "scattercarpet": [
           {
            "marker": {
             "colorbar": {
              "outlinewidth": 0,
              "ticks": ""
             }
            },
            "type": "scattercarpet"
           }
          ],
          "scattergeo": [
           {
            "marker": {
             "colorbar": {
              "outlinewidth": 0,
              "ticks": ""
             }
            },
            "type": "scattergeo"
           }
          ],
          "scattergl": [
           {
            "marker": {
             "colorbar": {
              "outlinewidth": 0,
              "ticks": ""
             }
            },
            "type": "scattergl"
           }
          ],
          "scattermapbox": [
           {
            "marker": {
             "colorbar": {
              "outlinewidth": 0,
              "ticks": ""
             }
            },
            "type": "scattermapbox"
           }
          ],
          "scatterpolar": [
           {
            "marker": {
             "colorbar": {
              "outlinewidth": 0,
              "ticks": ""
             }
            },
            "type": "scatterpolar"
           }
          ],
          "scatterpolargl": [
           {
            "marker": {
             "colorbar": {
              "outlinewidth": 0,
              "ticks": ""
             }
            },
            "type": "scatterpolargl"
           }
          ],
          "scatterternary": [
           {
            "marker": {
             "colorbar": {
              "outlinewidth": 0,
              "ticks": ""
             }
            },
            "type": "scatterternary"
           }
          ],
          "surface": [
           {
            "colorbar": {
             "outlinewidth": 0,
             "ticks": ""
            },
            "colorscale": [
             [
              0,
              "#0d0887"
             ],
             [
              0.1111111111111111,
              "#46039f"
             ],
             [
              0.2222222222222222,
              "#7201a8"
             ],
             [
              0.3333333333333333,
              "#9c179e"
             ],
             [
              0.4444444444444444,
              "#bd3786"
             ],
             [
              0.5555555555555556,
              "#d8576b"
             ],
             [
              0.6666666666666666,
              "#ed7953"
             ],
             [
              0.7777777777777778,
              "#fb9f3a"
             ],
             [
              0.8888888888888888,
              "#fdca26"
             ],
             [
              1,
              "#f0f921"
             ]
            ],
            "type": "surface"
           }
          ],
          "table": [
           {
            "cells": {
             "fill": {
              "color": "#EBF0F8"
             },
             "line": {
              "color": "white"
             }
            },
            "header": {
             "fill": {
              "color": "#C8D4E3"
             },
             "line": {
              "color": "white"
             }
            },
            "type": "table"
           }
          ]
         },
         "layout": {
          "annotationdefaults": {
           "arrowcolor": "#2a3f5f",
           "arrowhead": 0,
           "arrowwidth": 1
          },
          "autotypenumbers": "strict",
          "coloraxis": {
           "colorbar": {
            "outlinewidth": 0,
            "ticks": ""
           }
          },
          "colorscale": {
           "diverging": [
            [
             0,
             "#8e0152"
            ],
            [
             0.1,
             "#c51b7d"
            ],
            [
             0.2,
             "#de77ae"
            ],
            [
             0.3,
             "#f1b6da"
            ],
            [
             0.4,
             "#fde0ef"
            ],
            [
             0.5,
             "#f7f7f7"
            ],
            [
             0.6,
             "#e6f5d0"
            ],
            [
             0.7,
             "#b8e186"
            ],
            [
             0.8,
             "#7fbc41"
            ],
            [
             0.9,
             "#4d9221"
            ],
            [
             1,
             "#276419"
            ]
           ],
           "sequential": [
            [
             0,
             "#0d0887"
            ],
            [
             0.1111111111111111,
             "#46039f"
            ],
            [
             0.2222222222222222,
             "#7201a8"
            ],
            [
             0.3333333333333333,
             "#9c179e"
            ],
            [
             0.4444444444444444,
             "#bd3786"
            ],
            [
             0.5555555555555556,
             "#d8576b"
            ],
            [
             0.6666666666666666,
             "#ed7953"
            ],
            [
             0.7777777777777778,
             "#fb9f3a"
            ],
            [
             0.8888888888888888,
             "#fdca26"
            ],
            [
             1,
             "#f0f921"
            ]
           ],
           "sequentialminus": [
            [
             0,
             "#0d0887"
            ],
            [
             0.1111111111111111,
             "#46039f"
            ],
            [
             0.2222222222222222,
             "#7201a8"
            ],
            [
             0.3333333333333333,
             "#9c179e"
            ],
            [
             0.4444444444444444,
             "#bd3786"
            ],
            [
             0.5555555555555556,
             "#d8576b"
            ],
            [
             0.6666666666666666,
             "#ed7953"
            ],
            [
             0.7777777777777778,
             "#fb9f3a"
            ],
            [
             0.8888888888888888,
             "#fdca26"
            ],
            [
             1,
             "#f0f921"
            ]
           ]
          },
          "colorway": [
           "#636efa",
           "#EF553B",
           "#00cc96",
           "#ab63fa",
           "#FFA15A",
           "#19d3f3",
           "#FF6692",
           "#B6E880",
           "#FF97FF",
           "#FECB52"
          ],
          "font": {
           "color": "#2a3f5f"
          },
          "geo": {
           "bgcolor": "white",
           "lakecolor": "white",
           "landcolor": "white",
           "showlakes": true,
           "showland": true,
           "subunitcolor": "#C8D4E3"
          },
          "hoverlabel": {
           "align": "left"
          },
          "hovermode": "closest",
          "mapbox": {
           "style": "light"
          },
          "paper_bgcolor": "white",
          "plot_bgcolor": "white",
          "polar": {
           "angularaxis": {
            "gridcolor": "#EBF0F8",
            "linecolor": "#EBF0F8",
            "ticks": ""
           },
           "bgcolor": "white",
           "radialaxis": {
            "gridcolor": "#EBF0F8",
            "linecolor": "#EBF0F8",
            "ticks": ""
           }
          },
          "scene": {
           "xaxis": {
            "backgroundcolor": "white",
            "gridcolor": "#DFE8F3",
            "gridwidth": 2,
            "linecolor": "#EBF0F8",
            "showbackground": true,
            "ticks": "",
            "zerolinecolor": "#EBF0F8"
           },
           "yaxis": {
            "backgroundcolor": "white",
            "gridcolor": "#DFE8F3",
            "gridwidth": 2,
            "linecolor": "#EBF0F8",
            "showbackground": true,
            "ticks": "",
            "zerolinecolor": "#EBF0F8"
           },
           "zaxis": {
            "backgroundcolor": "white",
            "gridcolor": "#DFE8F3",
            "gridwidth": 2,
            "linecolor": "#EBF0F8",
            "showbackground": true,
            "ticks": "",
            "zerolinecolor": "#EBF0F8"
           }
          },
          "shapedefaults": {
           "line": {
            "color": "#2a3f5f"
           }
          },
          "ternary": {
           "aaxis": {
            "gridcolor": "#DFE8F3",
            "linecolor": "#A2B1C6",
            "ticks": ""
           },
           "baxis": {
            "gridcolor": "#DFE8F3",
            "linecolor": "#A2B1C6",
            "ticks": ""
           },
           "bgcolor": "white",
           "caxis": {
            "gridcolor": "#DFE8F3",
            "linecolor": "#A2B1C6",
            "ticks": ""
           }
          },
          "title": {
           "x": 0.05
          },
          "xaxis": {
           "automargin": true,
           "gridcolor": "#EBF0F8",
           "linecolor": "#EBF0F8",
           "ticks": "",
           "title": {
            "standoff": 15
           },
           "zerolinecolor": "#EBF0F8",
           "zerolinewidth": 2
          },
          "yaxis": {
           "automargin": true,
           "gridcolor": "#EBF0F8",
           "linecolor": "#EBF0F8",
           "ticks": "",
           "title": {
            "standoff": 15
           },
           "zerolinecolor": "#EBF0F8",
           "zerolinewidth": 2
          }
         }
        },
        "title": {
         "font": {
          "size": 25
         },
         "text": "Day to Day Flights Comparison",
         "x": 0.5
        },
        "xaxis": {
         "anchor": "y",
         "domain": [
          0,
          1
         ],
         "title": {
          "text": "Day of week"
         }
        },
        "yaxis": {
         "anchor": "x",
         "domain": [
          0,
          1
         ],
         "title": {
          "text": "Flights amount"
         }
        }
       }
      }
     },
     "metadata": {},
     "output_type": "display_data"
    }
   ],
   "source": [
    "day_to_day_comparision_fig = px.bar(day_to_day_comparision_to_plot_df,\n",
    "                            x=day_to_day_comparision_to_plot_df.index,\n",
    "                            y=day_to_day_comparision_to_plot_df.columns,\n",
    "                            barmode='group',\n",
    "                            color='year',\n",
    "                            template=\"plotly_white\",\n",
    "                            title='Day to Day Flights Comparison'\n",
    "                            )                            \n",
    "day_to_day_comparision_fig.update_layout(showlegend=True, \n",
    "                                  title_x=0.5, \n",
    "                                  title_font=dict(size=25),\n",
    "                                  xaxis_title=\"Day of week\",\n",
    "                                  yaxis_title=\"Flights amount\")\n",
    "day_to_day_comparision_fig.show()"
   ]
  },
  {
   "cell_type": "markdown",
   "metadata": {},
   "source": [
    " # Stworzenie szeregu czasowego\n",
    " W tym miejscu stworzymy wykres w formie szeregu czasowego, który zostanie umieszcony w raporcie. Wykres powinien przedstawiać dane w formie szeregu czasowego (dzień po dniu) dla lat 2019 oraz 2020. Dla możliwości identyfikacji poszczególnych lat, zostaliśmy dodatkowo poproszeni o nadanie innego koloru dla roku 2019 oraz 2020.\n",
    "\n",
    " > Pamiętaj o stworzeniu wykresu zgodnie z dobrymi praktykami."
   ]
  },
  {
   "cell_type": "markdown",
   "metadata": {},
   "source": [
    " W tym miejscu pobierz dane do ramki `day_by_day_reliability_df`, z widoku `reporting.day_by_day_reliability`."
   ]
  },
  {
   "cell_type": "code",
   "execution_count": 106,
   "metadata": {},
   "outputs": [
    {
     "name": "stderr",
     "output_type": "stream",
     "text": [
      "C:\\Users\\Home\\AppData\\Local\\Temp\\ipykernel_15300\\1639168378.py:1: UserWarning:\n",
      "\n",
      "pandas only supports SQLAlchemy connectable (engine/connection) or database string URI or sqlite3 DBAPI2 connection. Other DBAPI2 objects are not tested. Please consider using SQLAlchemy.\n",
      "\n"
     ]
    },
    {
     "data": {
      "text/html": [
       "<div>\n",
       "<style scoped>\n",
       "    .dataframe tbody tr th:only-of-type {\n",
       "        vertical-align: middle;\n",
       "    }\n",
       "\n",
       "    .dataframe tbody tr th {\n",
       "        vertical-align: top;\n",
       "    }\n",
       "\n",
       "    .dataframe thead th {\n",
       "        text-align: right;\n",
       "    }\n",
       "</style>\n",
       "<table border=\"1\" class=\"dataframe\">\n",
       "  <thead>\n",
       "    <tr style=\"text-align: right;\">\n",
       "      <th></th>\n",
       "      <th>date</th>\n",
       "      <th>reliability</th>\n",
       "    </tr>\n",
       "  </thead>\n",
       "  <tbody>\n",
       "    <tr>\n",
       "      <th>0</th>\n",
       "      <td>2019-01-01</td>\n",
       "      <td>0.40</td>\n",
       "    </tr>\n",
       "    <tr>\n",
       "      <th>1</th>\n",
       "      <td>2019-01-02</td>\n",
       "      <td>0.44</td>\n",
       "    </tr>\n",
       "    <tr>\n",
       "      <th>2</th>\n",
       "      <td>2019-01-03</td>\n",
       "      <td>0.35</td>\n",
       "    </tr>\n",
       "    <tr>\n",
       "      <th>3</th>\n",
       "      <td>2019-01-04</td>\n",
       "      <td>0.29</td>\n",
       "    </tr>\n",
       "    <tr>\n",
       "      <th>4</th>\n",
       "      <td>2019-01-05</td>\n",
       "      <td>0.37</td>\n",
       "    </tr>\n",
       "    <tr>\n",
       "      <th>...</th>\n",
       "      <td>...</td>\n",
       "      <td>...</td>\n",
       "    </tr>\n",
       "    <tr>\n",
       "      <th>451</th>\n",
       "      <td>2020-03-27</td>\n",
       "      <td>0.05</td>\n",
       "    </tr>\n",
       "    <tr>\n",
       "      <th>452</th>\n",
       "      <td>2020-03-28</td>\n",
       "      <td>0.07</td>\n",
       "    </tr>\n",
       "    <tr>\n",
       "      <th>453</th>\n",
       "      <td>2020-03-29</td>\n",
       "      <td>0.05</td>\n",
       "    </tr>\n",
       "    <tr>\n",
       "      <th>454</th>\n",
       "      <td>2020-03-30</td>\n",
       "      <td>0.05</td>\n",
       "    </tr>\n",
       "    <tr>\n",
       "      <th>455</th>\n",
       "      <td>2020-03-31</td>\n",
       "      <td>0.05</td>\n",
       "    </tr>\n",
       "  </tbody>\n",
       "</table>\n",
       "<p>456 rows × 2 columns</p>\n",
       "</div>"
      ],
      "text/plain": [
       "           date  reliability\n",
       "0    2019-01-01         0.40\n",
       "1    2019-01-02         0.44\n",
       "2    2019-01-03         0.35\n",
       "3    2019-01-04         0.29\n",
       "4    2019-01-05         0.37\n",
       "..          ...          ...\n",
       "451  2020-03-27         0.05\n",
       "452  2020-03-28         0.07\n",
       "453  2020-03-29         0.05\n",
       "454  2020-03-30         0.05\n",
       "455  2020-03-31         0.05\n",
       "\n",
       "[456 rows x 2 columns]"
      ]
     },
     "execution_count": 106,
     "metadata": {},
     "output_type": "execute_result"
    }
   ],
   "source": [
    "day_by_day_reliability_df = pd.read_sql(\"SELECT * FROM reporting.day_by_day_reliability\", con)\n",
    "day_by_day_reliability_df"
   ]
  },
  {
   "cell_type": "markdown",
   "metadata": {},
   "source": [
    " Tutaj stwórz wykres liniowy na podstawie pobranych danych. Wynik zapisz do zmiennej `day_by_day_reliability_fig`."
   ]
  },
  {
   "cell_type": "code",
   "execution_count": 107,
   "metadata": {},
   "outputs": [
    {
     "data": {
      "application/vnd.plotly.v1+json": {
       "config": {
        "plotlyServerURL": "https://plot.ly"
       },
       "data": [
        {
         "hovertemplate": "Date=%{x}<br>Reliability=%{y}<extra></extra>",
         "legendgroup": "",
         "line": {
          "color": "#636efa",
          "dash": "solid"
         },
         "marker": {
          "symbol": "circle"
         },
         "mode": "lines",
         "name": "",
         "orientation": "v",
         "showlegend": false,
         "type": "scatter",
         "x": [
          "2019-01-01",
          "2019-01-02",
          "2019-01-03",
          "2019-01-04",
          "2019-01-05",
          "2019-01-06",
          "2019-01-07",
          "2019-01-08",
          "2019-01-09",
          "2019-01-10",
          "2019-01-11",
          "2019-01-12",
          "2019-01-13",
          "2019-01-14",
          "2019-01-15",
          "2019-01-16",
          "2019-01-17",
          "2019-01-18",
          "2019-01-19",
          "2019-01-20",
          "2019-01-21",
          "2019-01-22",
          "2019-01-23",
          "2019-01-24",
          "2019-01-25",
          "2019-01-26",
          "2019-01-27",
          "2019-01-28",
          "2019-01-29",
          "2019-01-30",
          "2019-01-31",
          "2019-02-01",
          "2019-02-02",
          "2019-02-03",
          "2019-02-04",
          "2019-02-05",
          "2019-02-06",
          "2019-02-07",
          "2019-02-08",
          "2019-02-09",
          "2019-02-10",
          "2019-02-11",
          "2019-02-12",
          "2019-02-13",
          "2019-02-14",
          "2019-02-15",
          "2019-02-16",
          "2019-02-17",
          "2019-02-18",
          "2019-02-19",
          "2019-02-20",
          "2019-02-21",
          "2019-02-22",
          "2019-02-23",
          "2019-02-24",
          "2019-02-25",
          "2019-02-26",
          "2019-02-27",
          "2019-02-28",
          "2019-03-01",
          "2019-03-02",
          "2019-03-03",
          "2019-03-04",
          "2019-03-05",
          "2019-03-06",
          "2019-03-07",
          "2019-03-08",
          "2019-03-09",
          "2019-03-10",
          "2019-03-11",
          "2019-03-12",
          "2019-03-13",
          "2019-03-14",
          "2019-03-15",
          "2019-03-16",
          "2019-03-17",
          "2019-03-18",
          "2019-03-19",
          "2019-03-20",
          "2019-03-21",
          "2019-03-22",
          "2019-03-23",
          "2019-03-24",
          "2019-03-25",
          "2019-03-26",
          "2019-03-27",
          "2019-03-28",
          "2019-03-29",
          "2019-03-30",
          "2019-03-31",
          "2019-04-01",
          "2019-04-02",
          "2019-04-03",
          "2019-04-04",
          "2019-04-05",
          "2019-04-06",
          "2019-04-07",
          "2019-04-08",
          "2019-04-09",
          "2019-04-10",
          "2019-04-11",
          "2019-04-12",
          "2019-04-13",
          "2019-04-14",
          "2019-04-15",
          "2019-04-16",
          "2019-04-17",
          "2019-04-18",
          "2019-04-19",
          "2019-04-20",
          "2019-04-21",
          "2019-04-22",
          "2019-04-23",
          "2019-04-24",
          "2019-04-25",
          "2019-04-26",
          "2019-04-27",
          "2019-04-28",
          "2019-04-29",
          "2019-04-30",
          "2019-05-01",
          "2019-05-02",
          "2019-05-03",
          "2019-05-04",
          "2019-05-05",
          "2019-05-06",
          "2019-05-07",
          "2019-05-08",
          "2019-05-09",
          "2019-05-10",
          "2019-05-11",
          "2019-05-12",
          "2019-05-13",
          "2019-05-14",
          "2019-05-15",
          "2019-05-16",
          "2019-05-17",
          "2019-05-18",
          "2019-05-19",
          "2019-05-20",
          "2019-05-21",
          "2019-05-22",
          "2019-05-23",
          "2019-05-24",
          "2019-05-25",
          "2019-05-26",
          "2019-05-27",
          "2019-05-28",
          "2019-05-29",
          "2019-05-30",
          "2019-05-31",
          "2019-06-01",
          "2019-06-02",
          "2019-06-03",
          "2019-06-04",
          "2019-06-05",
          "2019-06-06",
          "2019-06-07",
          "2019-06-08",
          "2019-06-09",
          "2019-06-10",
          "2019-06-11",
          "2019-06-12",
          "2019-06-13",
          "2019-06-14",
          "2019-06-15",
          "2019-06-16",
          "2019-06-17",
          "2019-06-18",
          "2019-06-19",
          "2019-06-20",
          "2019-06-21",
          "2019-06-22",
          "2019-06-23",
          "2019-06-24",
          "2019-06-25",
          "2019-06-26",
          "2019-06-27",
          "2019-06-28",
          "2019-06-29",
          "2019-06-30",
          "2019-07-01",
          "2019-07-02",
          "2019-07-03",
          "2019-07-04",
          "2019-07-05",
          "2019-07-06",
          "2019-07-07",
          "2019-07-08",
          "2019-07-09",
          "2019-07-10",
          "2019-07-11",
          "2019-07-12",
          "2019-07-13",
          "2019-07-14",
          "2019-07-15",
          "2019-07-16",
          "2019-07-17",
          "2019-07-18",
          "2019-07-19",
          "2019-07-20",
          "2019-07-21",
          "2019-07-22",
          "2019-07-23",
          "2019-07-24",
          "2019-07-25",
          "2019-07-26",
          "2019-07-27",
          "2019-07-28",
          "2019-07-29",
          "2019-07-30",
          "2019-07-31",
          "2019-08-01",
          "2019-08-02",
          "2019-08-03",
          "2019-08-04",
          "2019-08-05",
          "2019-08-06",
          "2019-08-07",
          "2019-08-08",
          "2019-08-09",
          "2019-08-10",
          "2019-08-11",
          "2019-08-12",
          "2019-08-13",
          "2019-08-14",
          "2019-08-15",
          "2019-08-16",
          "2019-08-17",
          "2019-08-18",
          "2019-08-19",
          "2019-08-20",
          "2019-08-21",
          "2019-08-22",
          "2019-08-23",
          "2019-08-24",
          "2019-08-25",
          "2019-08-26",
          "2019-08-27",
          "2019-08-28",
          "2019-08-29",
          "2019-08-30",
          "2019-08-31",
          "2019-09-01",
          "2019-09-02",
          "2019-09-03",
          "2019-09-04",
          "2019-09-05",
          "2019-09-06",
          "2019-09-07",
          "2019-09-08",
          "2019-09-09",
          "2019-09-10",
          "2019-09-11",
          "2019-09-12",
          "2019-09-13",
          "2019-09-14",
          "2019-09-15",
          "2019-09-16",
          "2019-09-17",
          "2019-09-18",
          "2019-09-19",
          "2019-09-20",
          "2019-09-21",
          "2019-09-22",
          "2019-09-23",
          "2019-09-24",
          "2019-09-25",
          "2019-09-26",
          "2019-09-27",
          "2019-09-28",
          "2019-09-29",
          "2019-09-30",
          "2019-10-01",
          "2019-10-02",
          "2019-10-03",
          "2019-10-04",
          "2019-10-05",
          "2019-10-06",
          "2019-10-07",
          "2019-10-08",
          "2019-10-09",
          "2019-10-10",
          "2019-10-11",
          "2019-10-12",
          "2019-10-13",
          "2019-10-14",
          "2019-10-15",
          "2019-10-16",
          "2019-10-17",
          "2019-10-18",
          "2019-10-19",
          "2019-10-20",
          "2019-10-21",
          "2019-10-22",
          "2019-10-23",
          "2019-10-24",
          "2019-10-25",
          "2019-10-26",
          "2019-10-27",
          "2019-10-28",
          "2019-10-29",
          "2019-10-30",
          "2019-10-31",
          "2019-11-01",
          "2019-11-02",
          "2019-11-03",
          "2019-11-04",
          "2019-11-05",
          "2019-11-06",
          "2019-11-07",
          "2019-11-08",
          "2019-11-09",
          "2019-11-10",
          "2019-11-11",
          "2019-11-12",
          "2019-11-13",
          "2019-11-14",
          "2019-11-15",
          "2019-11-16",
          "2019-11-17",
          "2019-11-18",
          "2019-11-19",
          "2019-11-20",
          "2019-11-21",
          "2019-11-22",
          "2019-11-23",
          "2019-11-24",
          "2019-11-25",
          "2019-11-26",
          "2019-11-27",
          "2019-11-28",
          "2019-11-29",
          "2019-11-30",
          "2019-12-01",
          "2019-12-02",
          "2019-12-03",
          "2019-12-04",
          "2019-12-05",
          "2019-12-06",
          "2019-12-07",
          "2019-12-08",
          "2019-12-09",
          "2019-12-10",
          "2019-12-11",
          "2019-12-12",
          "2019-12-13",
          "2019-12-14",
          "2019-12-15",
          "2019-12-16",
          "2019-12-17",
          "2019-12-18",
          "2019-12-19",
          "2019-12-20",
          "2019-12-21",
          "2019-12-22",
          "2019-12-23",
          "2019-12-24",
          "2019-12-25",
          "2019-12-26",
          "2019-12-27",
          "2019-12-28",
          "2019-12-29",
          "2019-12-30",
          "2019-12-31",
          "2020-01-01",
          "2020-01-02",
          "2020-01-03",
          "2020-01-04",
          "2020-01-05",
          "2020-01-06",
          "2020-01-07",
          "2020-01-08",
          "2020-01-09",
          "2020-01-10",
          "2020-01-11",
          "2020-01-12",
          "2020-01-13",
          "2020-01-14",
          "2020-01-15",
          "2020-01-16",
          "2020-01-17",
          "2020-01-18",
          "2020-01-19",
          "2020-01-20",
          "2020-01-21",
          "2020-01-22",
          "2020-01-23",
          "2020-01-24",
          "2020-01-25",
          "2020-01-26",
          "2020-01-27",
          "2020-01-28",
          "2020-01-29",
          "2020-01-30",
          "2020-01-31",
          "2020-02-01",
          "2020-02-02",
          "2020-02-03",
          "2020-02-04",
          "2020-02-05",
          "2020-02-06",
          "2020-02-07",
          "2020-02-08",
          "2020-02-09",
          "2020-02-10",
          "2020-02-11",
          "2020-02-12",
          "2020-02-13",
          "2020-02-14",
          "2020-02-15",
          "2020-02-16",
          "2020-02-17",
          "2020-02-18",
          "2020-02-19",
          "2020-02-20",
          "2020-02-21",
          "2020-02-22",
          "2020-02-23",
          "2020-02-24",
          "2020-02-25",
          "2020-02-26",
          "2020-02-27",
          "2020-02-28",
          "2020-02-29",
          "2020-03-01",
          "2020-03-02",
          "2020-03-03",
          "2020-03-04",
          "2020-03-05",
          "2020-03-06",
          "2020-03-07",
          "2020-03-08",
          "2020-03-09",
          "2020-03-10",
          "2020-03-11",
          "2020-03-12",
          "2020-03-13",
          "2020-03-14",
          "2020-03-15",
          "2020-03-16",
          "2020-03-17",
          "2020-03-18",
          "2020-03-19",
          "2020-03-20",
          "2020-03-21",
          "2020-03-22",
          "2020-03-23",
          "2020-03-24",
          "2020-03-25",
          "2020-03-26",
          "2020-03-27",
          "2020-03-28",
          "2020-03-29",
          "2020-03-30",
          "2020-03-31"
         ],
         "xaxis": "x",
         "y": [
          0.4,
          0.44,
          0.35,
          0.29,
          0.37,
          0.4,
          0.31,
          0.25,
          0.24,
          0.32,
          0.3,
          0.27,
          0.29,
          0.3,
          0.28,
          0.28,
          0.4,
          0.41,
          0.34,
          0.32,
          0.45,
          0.39,
          0.4,
          0.45,
          0.39,
          0.25,
          0.31,
          0.31,
          0.24,
          0.29,
          0.38,
          0.42,
          0.32,
          0.24,
          0.34,
          0.24,
          0.3,
          0.37,
          0.42,
          0.32,
          0.42,
          0.41,
          0.43,
          0.41,
          0.43,
          0.44,
          0.34,
          0.38,
          0.47,
          0.42,
          0.49,
          0.47,
          0.47,
          0.38,
          0.4,
          0.46,
          0.35,
          0.34,
          0.45,
          0.46,
          0.46,
          0.45,
          0.4,
          0.34,
          0.35,
          0.37,
          0.38,
          0.47,
          0.5,
          0.31,
          0.29,
          0.29,
          0.42,
          0.46,
          0.33,
          0.29,
          0.26,
          0.25,
          0.3,
          0.34,
          0.43,
          0.29,
          0.3,
          0.36,
          0.28,
          0.29,
          0.31,
          0.3,
          0.27,
          0.33,
          0.44,
          0.22,
          0.27,
          0.34,
          0.34,
          0.27,
          0.34,
          0.35,
          0.33,
          0.31,
          0.37,
          0.43,
          0.32,
          0.5,
          0.49,
          0.29,
          0.25,
          0.39,
          0.47,
          0.34,
          0.27,
          0.35,
          0.27,
          0.27,
          0.26,
          0.41,
          0.31,
          0.33,
          0.42,
          0.35,
          0.3,
          0.44,
          0.41,
          0.31,
          0.39,
          0.34,
          0.28,
          0.36,
          0.41,
          0.39,
          0.34,
          0.36,
          0.39,
          0.29,
          0.31,
          0.42,
          0.41,
          0.4,
          0.53,
          0.43,
          0.42,
          0.34,
          0.48,
          0.47,
          0.26,
          0.25,
          0.34,
          0.42,
          0.39,
          0.42,
          0.34,
          0.34,
          0.4,
          0.31,
          0.26,
          0.36,
          0.37,
          0.38,
          0.45,
          0.46,
          0.47,
          0.41,
          0.41,
          0.49,
          0.36,
          0.39,
          0.48,
          0.48,
          0.49,
          0.5,
          0.53,
          0.5,
          0.42,
          0.47,
          0.43,
          0.53,
          0.42,
          0.4,
          0.39,
          0.42,
          0.45,
          0.34,
          0.35,
          0.35,
          0.28,
          0.33,
          0.4,
          0.48,
          0.5,
          0.37,
          0.33,
          0.41,
          0.45,
          0.32,
          0.34,
          0.34,
          0.36,
          0.43,
          0.54,
          0.49,
          0.47,
          0.49,
          0.41,
          0.46,
          0.37,
          0.32,
          0.34,
          0.3,
          0.31,
          0.37,
          0.38,
          0.41,
          0.53,
          0.48,
          0.38,
          0.41,
          0.34,
          0.4,
          0.41,
          0.51,
          0.4,
          0.32,
          0.34,
          0.31,
          0.37,
          0.4,
          0.4,
          0.4,
          0.43,
          0.47,
          0.45,
          0.42,
          0.41,
          0.44,
          0.39,
          0.26,
          0.27,
          0.32,
          0.28,
          0.3,
          0.32,
          0.31,
          0.3,
          0.23,
          0.29,
          0.33,
          0.25,
          0.22,
          0.28,
          0.22,
          0.32,
          0.32,
          0.28,
          0.29,
          0.44,
          0.38,
          0.25,
          0.34,
          0.29,
          0.3,
          0.32,
          0.39,
          0.32,
          0.25,
          0.28,
          0.31,
          0.2,
          0.22,
          0.32,
          0.31,
          0.31,
          0.29,
          0.27,
          0.22,
          0.25,
          0.31,
          0.32,
          0.23,
          0.27,
          0.29,
          0.23,
          0.32,
          0.42,
          0.48,
          0.26,
          0.3,
          0.26,
          0.28,
          0.34,
          0.4,
          0.37,
          0.31,
          0.39,
          0.41,
          0.33,
          0.24,
          0.33,
          0.37,
          0.28,
          0.39,
          0.33,
          0.31,
          0.42,
          0.44,
          0.34,
          0.25,
          0.27,
          0.25,
          0.24,
          0.26,
          0.37,
          0.38,
          0.27,
          0.26,
          0.4,
          0.41,
          0.27,
          0.31,
          0.33,
          0.23,
          0.29,
          0.34,
          0.23,
          0.28,
          0.32,
          0.31,
          0.26,
          0.25,
          0.23,
          0.32,
          0.39,
          0.25,
          0.27,
          0.45,
          0.51,
          0.52,
          0.45,
          0.39,
          0.33,
          0.36,
          0.3,
          0.32,
          0.43,
          0.31,
          0.42,
          0.34,
          0.4,
          0.32,
          0.32,
          0.34,
          0.42,
          0.46,
          0.46,
          0.44,
          0.44,
          0.53,
          0.48,
          0.32,
          0.28,
          0.42,
          0.39,
          0.47,
          0.42,
          0.45,
          0.34,
          0.3,
          0.31,
          0.36,
          0.42,
          0.4,
          0.3,
          0.19,
          0.26,
          0.22,
          0.29,
          0.34,
          0.37,
          0.3,
          0.23,
          0.21,
          0.43,
          0.37,
          0.36,
          0.24,
          0.25,
          0.26,
          0.21,
          0.27,
          0.28,
          0.24,
          0.24,
          0.24,
          0.17,
          0.17,
          0.23,
          0.31,
          0.24,
          0.18,
          0.24,
          0.18,
          0.19,
          0.51,
          0.5,
          0.24,
          0.36,
          0.27,
          0.2,
          0.23,
          0.55,
          0.31,
          0.26,
          0.21,
          0.27,
          0.29,
          0.22,
          0.27,
          0.26,
          0.22,
          0.25,
          0.21,
          0.22,
          0.3,
          0.32,
          0.25,
          0.25,
          0.28,
          0.21,
          0.15,
          0.23,
          0.21,
          0.26,
          0.19,
          0.24,
          0.17,
          0.19,
          0.18,
          0.21,
          0.33,
          0.23,
          0.18,
          0.16,
          0.14,
          0.13,
          0.16,
          0.16,
          0.14,
          0.12,
          0.09,
          0.08,
          0.06,
          0.06,
          0.05,
          0.07,
          0.05,
          0.05,
          0.05
         ],
         "yaxis": "y"
        }
       ],
       "layout": {
        "legend": {
         "tracegroupgap": 0
        },
        "template": {
         "data": {
          "bar": [
           {
            "error_x": {
             "color": "#2a3f5f"
            },
            "error_y": {
             "color": "#2a3f5f"
            },
            "marker": {
             "line": {
              "color": "white",
              "width": 0.5
             },
             "pattern": {
              "fillmode": "overlay",
              "size": 10,
              "solidity": 0.2
             }
            },
            "type": "bar"
           }
          ],
          "barpolar": [
           {
            "marker": {
             "line": {
              "color": "white",
              "width": 0.5
             },
             "pattern": {
              "fillmode": "overlay",
              "size": 10,
              "solidity": 0.2
             }
            },
            "type": "barpolar"
           }
          ],
          "carpet": [
           {
            "aaxis": {
             "endlinecolor": "#2a3f5f",
             "gridcolor": "#C8D4E3",
             "linecolor": "#C8D4E3",
             "minorgridcolor": "#C8D4E3",
             "startlinecolor": "#2a3f5f"
            },
            "baxis": {
             "endlinecolor": "#2a3f5f",
             "gridcolor": "#C8D4E3",
             "linecolor": "#C8D4E3",
             "minorgridcolor": "#C8D4E3",
             "startlinecolor": "#2a3f5f"
            },
            "type": "carpet"
           }
          ],
          "choropleth": [
           {
            "colorbar": {
             "outlinewidth": 0,
             "ticks": ""
            },
            "type": "choropleth"
           }
          ],
          "contour": [
           {
            "colorbar": {
             "outlinewidth": 0,
             "ticks": ""
            },
            "colorscale": [
             [
              0,
              "#0d0887"
             ],
             [
              0.1111111111111111,
              "#46039f"
             ],
             [
              0.2222222222222222,
              "#7201a8"
             ],
             [
              0.3333333333333333,
              "#9c179e"
             ],
             [
              0.4444444444444444,
              "#bd3786"
             ],
             [
              0.5555555555555556,
              "#d8576b"
             ],
             [
              0.6666666666666666,
              "#ed7953"
             ],
             [
              0.7777777777777778,
              "#fb9f3a"
             ],
             [
              0.8888888888888888,
              "#fdca26"
             ],
             [
              1,
              "#f0f921"
             ]
            ],
            "type": "contour"
           }
          ],
          "contourcarpet": [
           {
            "colorbar": {
             "outlinewidth": 0,
             "ticks": ""
            },
            "type": "contourcarpet"
           }
          ],
          "heatmap": [
           {
            "colorbar": {
             "outlinewidth": 0,
             "ticks": ""
            },
            "colorscale": [
             [
              0,
              "#0d0887"
             ],
             [
              0.1111111111111111,
              "#46039f"
             ],
             [
              0.2222222222222222,
              "#7201a8"
             ],
             [
              0.3333333333333333,
              "#9c179e"
             ],
             [
              0.4444444444444444,
              "#bd3786"
             ],
             [
              0.5555555555555556,
              "#d8576b"
             ],
             [
              0.6666666666666666,
              "#ed7953"
             ],
             [
              0.7777777777777778,
              "#fb9f3a"
             ],
             [
              0.8888888888888888,
              "#fdca26"
             ],
             [
              1,
              "#f0f921"
             ]
            ],
            "type": "heatmap"
           }
          ],
          "heatmapgl": [
           {
            "colorbar": {
             "outlinewidth": 0,
             "ticks": ""
            },
            "colorscale": [
             [
              0,
              "#0d0887"
             ],
             [
              0.1111111111111111,
              "#46039f"
             ],
             [
              0.2222222222222222,
              "#7201a8"
             ],
             [
              0.3333333333333333,
              "#9c179e"
             ],
             [
              0.4444444444444444,
              "#bd3786"
             ],
             [
              0.5555555555555556,
              "#d8576b"
             ],
             [
              0.6666666666666666,
              "#ed7953"
             ],
             [
              0.7777777777777778,
              "#fb9f3a"
             ],
             [
              0.8888888888888888,
              "#fdca26"
             ],
             [
              1,
              "#f0f921"
             ]
            ],
            "type": "heatmapgl"
           }
          ],
          "histogram": [
           {
            "marker": {
             "pattern": {
              "fillmode": "overlay",
              "size": 10,
              "solidity": 0.2
             }
            },
            "type": "histogram"
           }
          ],
          "histogram2d": [
           {
            "colorbar": {
             "outlinewidth": 0,
             "ticks": ""
            },
            "colorscale": [
             [
              0,
              "#0d0887"
             ],
             [
              0.1111111111111111,
              "#46039f"
             ],
             [
              0.2222222222222222,
              "#7201a8"
             ],
             [
              0.3333333333333333,
              "#9c179e"
             ],
             [
              0.4444444444444444,
              "#bd3786"
             ],
             [
              0.5555555555555556,
              "#d8576b"
             ],
             [
              0.6666666666666666,
              "#ed7953"
             ],
             [
              0.7777777777777778,
              "#fb9f3a"
             ],
             [
              0.8888888888888888,
              "#fdca26"
             ],
             [
              1,
              "#f0f921"
             ]
            ],
            "type": "histogram2d"
           }
          ],
          "histogram2dcontour": [
           {
            "colorbar": {
             "outlinewidth": 0,
             "ticks": ""
            },
            "colorscale": [
             [
              0,
              "#0d0887"
             ],
             [
              0.1111111111111111,
              "#46039f"
             ],
             [
              0.2222222222222222,
              "#7201a8"
             ],
             [
              0.3333333333333333,
              "#9c179e"
             ],
             [
              0.4444444444444444,
              "#bd3786"
             ],
             [
              0.5555555555555556,
              "#d8576b"
             ],
             [
              0.6666666666666666,
              "#ed7953"
             ],
             [
              0.7777777777777778,
              "#fb9f3a"
             ],
             [
              0.8888888888888888,
              "#fdca26"
             ],
             [
              1,
              "#f0f921"
             ]
            ],
            "type": "histogram2dcontour"
           }
          ],
          "mesh3d": [
           {
            "colorbar": {
             "outlinewidth": 0,
             "ticks": ""
            },
            "type": "mesh3d"
           }
          ],
          "parcoords": [
           {
            "line": {
             "colorbar": {
              "outlinewidth": 0,
              "ticks": ""
             }
            },
            "type": "parcoords"
           }
          ],
          "pie": [
           {
            "automargin": true,
            "type": "pie"
           }
          ],
          "scatter": [
           {
            "fillpattern": {
             "fillmode": "overlay",
             "size": 10,
             "solidity": 0.2
            },
            "type": "scatter"
           }
          ],
          "scatter3d": [
           {
            "line": {
             "colorbar": {
              "outlinewidth": 0,
              "ticks": ""
             }
            },
            "marker": {
             "colorbar": {
              "outlinewidth": 0,
              "ticks": ""
             }
            },
            "type": "scatter3d"
           }
          ],
          "scattercarpet": [
           {
            "marker": {
             "colorbar": {
              "outlinewidth": 0,
              "ticks": ""
             }
            },
            "type": "scattercarpet"
           }
          ],
          "scattergeo": [
           {
            "marker": {
             "colorbar": {
              "outlinewidth": 0,
              "ticks": ""
             }
            },
            "type": "scattergeo"
           }
          ],
          "scattergl": [
           {
            "marker": {
             "colorbar": {
              "outlinewidth": 0,
              "ticks": ""
             }
            },
            "type": "scattergl"
           }
          ],
          "scattermapbox": [
           {
            "marker": {
             "colorbar": {
              "outlinewidth": 0,
              "ticks": ""
             }
            },
            "type": "scattermapbox"
           }
          ],
          "scatterpolar": [
           {
            "marker": {
             "colorbar": {
              "outlinewidth": 0,
              "ticks": ""
             }
            },
            "type": "scatterpolar"
           }
          ],
          "scatterpolargl": [
           {
            "marker": {
             "colorbar": {
              "outlinewidth": 0,
              "ticks": ""
             }
            },
            "type": "scatterpolargl"
           }
          ],
          "scatterternary": [
           {
            "marker": {
             "colorbar": {
              "outlinewidth": 0,
              "ticks": ""
             }
            },
            "type": "scatterternary"
           }
          ],
          "surface": [
           {
            "colorbar": {
             "outlinewidth": 0,
             "ticks": ""
            },
            "colorscale": [
             [
              0,
              "#0d0887"
             ],
             [
              0.1111111111111111,
              "#46039f"
             ],
             [
              0.2222222222222222,
              "#7201a8"
             ],
             [
              0.3333333333333333,
              "#9c179e"
             ],
             [
              0.4444444444444444,
              "#bd3786"
             ],
             [
              0.5555555555555556,
              "#d8576b"
             ],
             [
              0.6666666666666666,
              "#ed7953"
             ],
             [
              0.7777777777777778,
              "#fb9f3a"
             ],
             [
              0.8888888888888888,
              "#fdca26"
             ],
             [
              1,
              "#f0f921"
             ]
            ],
            "type": "surface"
           }
          ],
          "table": [
           {
            "cells": {
             "fill": {
              "color": "#EBF0F8"
             },
             "line": {
              "color": "white"
             }
            },
            "header": {
             "fill": {
              "color": "#C8D4E3"
             },
             "line": {
              "color": "white"
             }
            },
            "type": "table"
           }
          ]
         },
         "layout": {
          "annotationdefaults": {
           "arrowcolor": "#2a3f5f",
           "arrowhead": 0,
           "arrowwidth": 1
          },
          "autotypenumbers": "strict",
          "coloraxis": {
           "colorbar": {
            "outlinewidth": 0,
            "ticks": ""
           }
          },
          "colorscale": {
           "diverging": [
            [
             0,
             "#8e0152"
            ],
            [
             0.1,
             "#c51b7d"
            ],
            [
             0.2,
             "#de77ae"
            ],
            [
             0.3,
             "#f1b6da"
            ],
            [
             0.4,
             "#fde0ef"
            ],
            [
             0.5,
             "#f7f7f7"
            ],
            [
             0.6,
             "#e6f5d0"
            ],
            [
             0.7,
             "#b8e186"
            ],
            [
             0.8,
             "#7fbc41"
            ],
            [
             0.9,
             "#4d9221"
            ],
            [
             1,
             "#276419"
            ]
           ],
           "sequential": [
            [
             0,
             "#0d0887"
            ],
            [
             0.1111111111111111,
             "#46039f"
            ],
            [
             0.2222222222222222,
             "#7201a8"
            ],
            [
             0.3333333333333333,
             "#9c179e"
            ],
            [
             0.4444444444444444,
             "#bd3786"
            ],
            [
             0.5555555555555556,
             "#d8576b"
            ],
            [
             0.6666666666666666,
             "#ed7953"
            ],
            [
             0.7777777777777778,
             "#fb9f3a"
            ],
            [
             0.8888888888888888,
             "#fdca26"
            ],
            [
             1,
             "#f0f921"
            ]
           ],
           "sequentialminus": [
            [
             0,
             "#0d0887"
            ],
            [
             0.1111111111111111,
             "#46039f"
            ],
            [
             0.2222222222222222,
             "#7201a8"
            ],
            [
             0.3333333333333333,
             "#9c179e"
            ],
            [
             0.4444444444444444,
             "#bd3786"
            ],
            [
             0.5555555555555556,
             "#d8576b"
            ],
            [
             0.6666666666666666,
             "#ed7953"
            ],
            [
             0.7777777777777778,
             "#fb9f3a"
            ],
            [
             0.8888888888888888,
             "#fdca26"
            ],
            [
             1,
             "#f0f921"
            ]
           ]
          },
          "colorway": [
           "#636efa",
           "#EF553B",
           "#00cc96",
           "#ab63fa",
           "#FFA15A",
           "#19d3f3",
           "#FF6692",
           "#B6E880",
           "#FF97FF",
           "#FECB52"
          ],
          "font": {
           "color": "#2a3f5f"
          },
          "geo": {
           "bgcolor": "white",
           "lakecolor": "white",
           "landcolor": "white",
           "showlakes": true,
           "showland": true,
           "subunitcolor": "#C8D4E3"
          },
          "hoverlabel": {
           "align": "left"
          },
          "hovermode": "closest",
          "mapbox": {
           "style": "light"
          },
          "paper_bgcolor": "white",
          "plot_bgcolor": "white",
          "polar": {
           "angularaxis": {
            "gridcolor": "#EBF0F8",
            "linecolor": "#EBF0F8",
            "ticks": ""
           },
           "bgcolor": "white",
           "radialaxis": {
            "gridcolor": "#EBF0F8",
            "linecolor": "#EBF0F8",
            "ticks": ""
           }
          },
          "scene": {
           "xaxis": {
            "backgroundcolor": "white",
            "gridcolor": "#DFE8F3",
            "gridwidth": 2,
            "linecolor": "#EBF0F8",
            "showbackground": true,
            "ticks": "",
            "zerolinecolor": "#EBF0F8"
           },
           "yaxis": {
            "backgroundcolor": "white",
            "gridcolor": "#DFE8F3",
            "gridwidth": 2,
            "linecolor": "#EBF0F8",
            "showbackground": true,
            "ticks": "",
            "zerolinecolor": "#EBF0F8"
           },
           "zaxis": {
            "backgroundcolor": "white",
            "gridcolor": "#DFE8F3",
            "gridwidth": 2,
            "linecolor": "#EBF0F8",
            "showbackground": true,
            "ticks": "",
            "zerolinecolor": "#EBF0F8"
           }
          },
          "shapedefaults": {
           "line": {
            "color": "#2a3f5f"
           }
          },
          "ternary": {
           "aaxis": {
            "gridcolor": "#DFE8F3",
            "linecolor": "#A2B1C6",
            "ticks": ""
           },
           "baxis": {
            "gridcolor": "#DFE8F3",
            "linecolor": "#A2B1C6",
            "ticks": ""
           },
           "bgcolor": "white",
           "caxis": {
            "gridcolor": "#DFE8F3",
            "linecolor": "#A2B1C6",
            "ticks": ""
           }
          },
          "title": {
           "x": 0.05
          },
          "xaxis": {
           "automargin": true,
           "gridcolor": "#EBF0F8",
           "linecolor": "#EBF0F8",
           "ticks": "",
           "title": {
            "standoff": 15
           },
           "zerolinecolor": "#EBF0F8",
           "zerolinewidth": 2
          },
          "yaxis": {
           "automargin": true,
           "gridcolor": "#EBF0F8",
           "linecolor": "#EBF0F8",
           "ticks": "",
           "title": {
            "standoff": 15
           },
           "zerolinecolor": "#EBF0F8",
           "zerolinewidth": 2
          }
         }
        },
        "title": {
         "font": {
          "size": 25
         },
         "text": "Day by day reliability",
         "x": 0.5
        },
        "xaxis": {
         "anchor": "y",
         "domain": [
          0,
          1
         ],
         "title": {
          "text": "Date"
         }
        },
        "yaxis": {
         "anchor": "x",
         "domain": [
          0,
          1
         ],
         "title": {
          "text": "Reliability"
         }
        }
       }
      }
     },
     "metadata": {},
     "output_type": "display_data"
    }
   ],
   "source": [
    "day_by_day_reliability_fig = px.line(day_by_day_reliability_df,\n",
    "                            x='date',\n",
    "                            y='reliability',\n",
    "                            title='Day by day reliability',                            \n",
    "                            labels={'date': 'Date', 'reliability': 'Reliability'},\n",
    "                            template=\"plotly_white\"\n",
    ")\n",
    "day_by_day_reliability_fig.update_layout(title_x=0.5, \n",
    "                                         title_font=dict(size=25),)\n",
    "day_by_day_reliability_fig.show()"
   ]
  },
  {
   "cell_type": "markdown",
   "metadata": {},
   "source": [
    " # Stworzenie layoutów poszczególnych stron"
   ]
  },
  {
   "cell_type": "markdown",
   "metadata": {},
   "source": [
    " ## Stworzenie layout dla widoku `TOP 10 routes`\n",
    " W tym momencie przekonwertujemy zmienną `top_routes_df` w postać `Dash.DataTable`. Dodatkowo, dla czytelności, dodamy nagłówek opisujący co tabela przedstawia.\n",
    "\n",
    " Nagłówek wystylizuj używając poniższych wymagań:\n",
    " - tag: `H3`,\n",
    " - czcionka: `verdana`,\n",
    " - kolor: '#4444`,\n",
    " - tekst do wyświetlenia: `TOP 10 reliability routes in 2019 and 2020`\n",
    "\n",
    "Wskazówki:\n",
    " - `Wizualizacja danych > Dzień 3 > Dash`,\n",
    " - `Wizualizacja danych > Dzień 3 > Dash - datatable`,\n",
    " - Dokmentacja metody `Pandas` - [to_dict](https://pandas.pydata.org/docs/reference/api/pandas.DataFrame.to_dict.html)."
   ]
  },
  {
   "cell_type": "markdown",
   "metadata": {},
   "source": [
    " Tutaj przygotuj komponent `Dash` `DataTable`, zapisując wynik do zmiennej `top_routes_table`"
   ]
  },
  {
   "cell_type": "code",
   "execution_count": 108,
   "metadata": {},
   "outputs": [
    {
     "name": "stderr",
     "output_type": "stream",
     "text": [
      "C:\\Users\\Home\\AppData\\Local\\Temp\\ipykernel_15300\\2965344040.py:1: UserWarning:\n",
      "\n",
      "pandas only supports SQLAlchemy connectable (engine/connection) or database string URI or sqlite3 DBAPI2 connection. Other DBAPI2 objects are not tested. Please consider using SQLAlchemy.\n",
      "\n"
     ]
    }
   ],
   "source": [
    "top_routes_df = pd.read_sql(\"SELECT * FROM reporting.top_reliability_roads\", con)"
   ]
  },
  {
   "cell_type": "code",
   "execution_count": 109,
   "metadata": {},
   "outputs": [
    {
     "data": {
      "text/plain": [
       "DataTable(data=[{'origin_airport_id': 12173, 'origin_airport_name': 'LOS ANGELES INTERNATIONAL AIRPORT, CA US', 'dest_airport_id': 13830, 'dest_airport_name': 'HONOLULU INTERNATIONAL AIRPORT, HI US', 'year': 2019, 'cnt': 10735, 'reliability': 0.25, 'nb': 1}, {'origin_airport_id': 13830, 'origin_airport_name': 'HONOLULU INTERNATIONAL AIRPORT, HI US', 'dest_airport_id': 12173, 'dest_airport_name': 'LOS ANGELES INTERNATIONAL AIRPORT, CA US', 'year': 2019, 'cnt': 10738, 'reliability': 0.27, 'nb': 2}, {'origin_airport_id': 12478, 'origin_airport_name': 'LAGUARDIA AIRPORT, NY US', 'dest_airport_id': 12892, 'dest_airport_name': 'LOS ANGELES INTERNATIONAL AIRPORT, CA US', 'year': 2019, 'cnt': 12804, 'reliability': 0.27, 'nb': 2}, {'origin_airport_id': 14771, 'origin_airport_name': 'SAN FRANCISCO INTERNATIONAL AIRPORT, CA US', 'dest_airport_id': 12892, 'dest_airport_name': 'LOS ANGELES INTERNATIONAL AIRPORT, CA US', 'year': 2019, 'cnt': 14614, 'reliability': 0.33, 'nb': 3}, {'origin_airport_id': 10721, 'origin_airport_name': 'BOSTON, MA US', 'dest_airport_id': 12953, 'dest_airport_name': 'LAGUARDIA AIRPORT, NY US', 'year': 2019, 'cnt': 10303, 'reliability': 0.34, 'nb': 4}, {'origin_airport_id': 12953, 'origin_airport_name': 'LAGUARDIA AIRPORT, NY US', 'dest_airport_id': 10721, 'dest_airport_name': 'BOSTON, MA US', 'year': 2019, 'cnt': 10309, 'reliability': 0.34, 'nb': 4}, {'origin_airport_id': 12892, 'origin_airport_name': 'LOS ANGELES INTERNATIONAL AIRPORT, CA US', 'dest_airport_id': 14771, 'dest_airport_name': 'SAN FRANCISCO INTERNATIONAL AIRPORT, CA US', 'year': 2019, 'cnt': 14630, 'reliability': 0.35, 'nb': 5}, {'origin_airport_id': 12953, 'origin_airport_name': 'LAGUARDIA AIRPORT, NY US', 'dest_airport_id': 13930, 'dest_airport_name': 'CHICAGO OHARE INTERNATIONAL AIRPORT, IL US', 'year': 2019, 'cnt': 14699, 'reliability': 0.35, 'nb': 5}, {'origin_airport_id': 12889, 'origin_airport_name': 'MCCARRAN INTERNATIONAL AIRPORT, NV US', 'dest_airport_id': 12892, 'dest_airport_name': 'LOS ANGELES INTERNATIONAL AIRPORT, CA US', 'year': 2019, 'cnt': 11718, 'reliability': 0.36, 'nb': 6}, {'origin_airport_id': 12892, 'origin_airport_name': 'LOS ANGELES INTERNATIONAL AIRPORT, CA US', 'dest_airport_id': 12889, 'dest_airport_name': 'MCCARRAN INTERNATIONAL AIRPORT, NV US', 'year': 2019, 'cnt': 11722, 'reliability': 0.37, 'nb': 7}, {'origin_airport_id': 12892, 'origin_airport_name': 'LOS ANGELES INTERNATIONAL AIRPORT, CA US', 'dest_airport_id': 12478, 'dest_airport_name': 'LAGUARDIA AIRPORT, NY US', 'year': 2019, 'cnt': 12862, 'reliability': 0.38, 'nb': 8}, {'origin_airport_id': 13930, 'origin_airport_name': 'CHICAGO OHARE INTERNATIONAL AIRPORT, IL US', 'dest_airport_id': 12953, 'dest_airport_name': 'LAGUARDIA AIRPORT, NY US', 'year': 2019, 'cnt': 14702, 'reliability': 0.4, 'nb': 9}], columns=[{'name': 'origin_airport_id', 'id': 'origin_airport_id'}, {'name': 'origin_airport_name', 'id': 'origin_airport_name'}, {'name': 'dest_airport_id', 'id': 'dest_airport_id'}, {'name': 'dest_airport_name', 'id': 'dest_airport_name'}, {'name': 'year', 'id': 'year'}, {'name': 'cnt', 'id': 'cnt'}, {'name': 'reliability', 'id': 'reliability'}, {'name': 'nb', 'id': 'nb'}], id='top_routes')"
      ]
     },
     "execution_count": 109,
     "metadata": {},
     "output_type": "execute_result"
    }
   ],
   "source": [
    "top_routes_table = dash_table.DataTable(id='top_routes',data=top_routes_df.to_dict('records'), columns=[{'name': i, 'id': i} for i in top_routes_df.columns])\n",
    "top_routes_table"
   ]
  },
  {
   "cell_type": "markdown",
   "metadata": {},
   "source": [
    " Tutaj przygotuj nagłówek dla tabeli, zapisz go pod nazwą `top_routes_page_title`"
   ]
  },
  {
   "cell_type": "code",
   "execution_count": 110,
   "metadata": {},
   "outputs": [],
   "source": [
    "top_routes_page_title = html.H3('TOP 10 reliability routes in 2019 and 2020', style={'fontFamily': 'Verdana', 'color': '#4444'})"
   ]
  },
  {
   "cell_type": "markdown",
   "metadata": {},
   "source": [
    " Tutaj przygotuj layout dla widoku `TOP 10 routes`. Konfigurację zapisz do zmiennej `top_routes_layout`"
   ]
  },
  {
   "cell_type": "code",
   "execution_count": 111,
   "metadata": {},
   "outputs": [],
   "source": [
    "top_routes_layout = html.Div([top_routes_page_title, \n",
    "                              top_routes_table])"
   ]
  },
  {
   "cell_type": "markdown",
   "metadata": {},
   "source": [
    " ## Stworzenie layout dla widoku `Comparision`\n",
    " W tym momencie opakujemy zmienne `yoy_comparision_fig` oraz `day_to_day_comparision_fig` do komponentów `Dash`, a następnie stworzymy odpowiedni `layout` dla strony `comparision`. Wyniki zapiszemy do zmiennej `comparision_layout`."
   ]
  },
  {
   "cell_type": "markdown",
   "metadata": {},
   "source": [
    " Tutaj opakuj `yoy_comparision_fig` w odpowiedni komponent `Dash`. Wynik zapisz do zmiennej `yoy_comparision_component`."
   ]
  },
  {
   "cell_type": "code",
   "execution_count": 112,
   "metadata": {},
   "outputs": [],
   "source": [
    "yoy_comparision_component = html.Div([\n",
    "        dcc.Graph(\n",
    "            id='yoy_comparision_component',\n",
    "            figure=yoy_comparision_fig\n",
    "        )\n",
    "])"
   ]
  },
  {
   "cell_type": "markdown",
   "metadata": {},
   "source": [
    " Tutaj opakuj `day_to_day_comparision_fig` w odpowiedni komponent `Dash`. Wynik zapisz do zmiennej `day_to_day_comparision_component`."
   ]
  },
  {
   "cell_type": "code",
   "execution_count": 113,
   "metadata": {},
   "outputs": [],
   "source": [
    "day_to_day_comparision_component = html.Div([\n",
    "        dcc.Graph(\n",
    "            id='day_to_day_comparision_component',\n",
    "            figure=day_to_day_comparision_fig\n",
    "        )\n",
    "])"
   ]
  },
  {
   "cell_type": "markdown",
   "metadata": {},
   "source": [
    " Tutaj stwórz odpowiedni `layout` dla widoku `comparision`. Wynik zapisz do zmiennej `comparision_layout`."
   ]
  },
  {
   "cell_type": "code",
   "execution_count": 114,
   "metadata": {},
   "outputs": [],
   "source": [
    "comparision_layout = html.Div([\n",
    "    html.Div([\n",
    "        yoy_comparision_component\n",
    "     ]),\n",
    "    html.Div([\n",
    "        day_to_day_comparision_component\n",
    "    ])\n",
    "])"
   ]
  },
  {
   "cell_type": "markdown",
   "metadata": {},
   "source": [
    " Tutaj stwórz odpowiedni `layout` dla widoku `day by day`. Wynik zapisz do zmiennej `day_by_day_layout`."
   ]
  },
  {
   "cell_type": "code",
   "execution_count": 115,
   "metadata": {},
   "outputs": [],
   "source": [
    "day_by_day_layout = html.Div([\n",
    "        dcc.Graph(\n",
    "            id='day_by_day_relibility',\n",
    "            figure=day_by_day_reliability_fig\n",
    "        )\n",
    "])"
   ]
  },
  {
   "cell_type": "markdown",
   "metadata": {},
   "source": [
    " # Konfigurowanie aplikacji\n",
    " Posiadamy już wszystkie niezbędne komponenty do stworzenia oraz uruchomienia aplikacji. Naszym zadaniem w tym miejscu będzie odpowiednie jej skonfigurowanie, aby obsługiwała więcej niż jedną stronę.\n",
    "\n",
    " Chcemy, aby możliwe było poruszanie się pomiędzy poniższymi stronami:\n",
    " - `TOP report` - strona domyślna,\n",
    " - `Comparision` - strona dostępna pod adresem: `comparision_reporting`,\n",
    " - `Day by day reporting` - strona dostępna pod adresem: `day_by_day_reporting`\n",
    "\n",
    "Wskazówki:\n",
    " - `Wizualizacja danych > Dzień 4 > Callback context`,\n",
    " - `Wizualizacja danych > Dzień 4 > Aplikacja multipage`.\n",
    " - Używając komponentu [html.Button](https://community.plotly.com/t/button-with-link/11809), możesz łatwo stworzyć ładniejsze linki do poszczególnych stron."
   ]
  },
  {
   "cell_type": "markdown",
   "metadata": {},
   "source": [
    " Tutaj przygotuj layout aplikacji"
   ]
  },
  {
   "cell_type": "code",
   "execution_count": 116,
   "metadata": {},
   "outputs": [],
   "source": [
    "app = dash.Dash(__name__)\n",
    "app.layout = html.Div([\n",
    "  dcc.Location(id='url', refresh=False),\n",
    "  html.Button(dcc.Link(\"TOP Report\", href=f\"url\")),\n",
    "  html.Button(dcc.Link(\"Comparison\", href=f\"/second_page\")),\n",
    "  html.Button(dcc.Link(\"Day By Day Reporting\", href=f\"/third_page\")),\n",
    "  html.Br(),\n",
    "  html.Div(id='page-content')\n",
    "])\n",
    "layout_page_one = top_routes_layout\n",
    "layout_page_two = comparision_layout\n",
    "layout_page_three = day_by_day_layout"
   ]
  },
  {
   "cell_type": "markdown",
   "metadata": {},
   "source": [
    " Tutaj stwórz procedurę odpowiadającą za nawigację pomiędzy poszczególnymi stronami"
   ]
  },
  {
   "cell_type": "code",
   "execution_count": 117,
   "metadata": {},
   "outputs": [],
   "source": [
    "@app.callback(\n",
    "  Output('page-content', 'children'),\n",
    "  Input('url', 'pathname')\n",
    ")\n",
    "def display_page_content(pathname):\n",
    "  if pathname == \"/second_page\":\n",
    "    return layout_page_two\n",
    "  elif pathname == \"/third_page\":\n",
    "    return layout_page_three\n",
    "  else:\n",
    "    return layout_page_one"
   ]
  },
  {
   "cell_type": "markdown",
   "metadata": {},
   "source": [
    " Tutaj uruchom aplikację"
   ]
  },
  {
   "cell_type": "code",
   "execution_count": 118,
   "metadata": {},
   "outputs": [
    {
     "data": {
      "text/html": [
       "\n",
       "        <iframe\n",
       "            width=\"100%\"\n",
       "            height=\"650\"\n",
       "            src=\"http://127.0.0.1:8050/\"\n",
       "            frameborder=\"0\"\n",
       "            allowfullscreen\n",
       "            \n",
       "        ></iframe>\n",
       "        "
      ],
      "text/plain": [
       "<IPython.lib.display.IFrame at 0x25ae862fa70>"
      ]
     },
     "metadata": {},
     "output_type": "display_data"
    }
   ],
   "source": [
    "thread = threading.Thread(target=app.run_server)\n",
    "thread.start()"
   ]
  },
  {
   "cell_type": "markdown",
   "metadata": {},
   "source": [
    " # Podsumowanie\n",
    " W tym notatniku stworzyliśmy zgodnie z wymaganiami raport do dyspozycji osób decyzyjnych. Kod źródłowy może w tym momencie zostać przekazany dalej, do działu IT, który następnie wdroży rozwiązanie na serwer dostępny dla każdej zainteresowanej osoby. W praktyce oznacza to koniec naszej pracy nad tym zadaniem. Choć warto dodać, że często po udostępnieniu raportu pojawiają się dodatkowe wymagania oraz komentarze ze względu na informacje, które są tam zawarte.\n",
    "\n",
    " W kolejnym notatniku podsumujemy sobie cały warsztat."
   ]
  }
 ],
 "metadata": {
  "kernelspec": {
   "display_name": "Python 3 (ipykernel)",
   "language": "python",
   "name": "python3"
  },
  "language_info": {
   "codemirror_mode": {
    "name": "ipython",
    "version": 3
   },
   "file_extension": ".py",
   "mimetype": "text/x-python",
   "name": "python",
   "nbconvert_exporter": "python",
   "pygments_lexer": "ipython3",
   "version": "3.12.0"
  },
  "vscode": {
   "interpreter": {
    "hash": "38d75d0df746d7f75dd34c5d1915af59cb55786647bd68b8d9064425d7680b12"
   }
  }
 },
 "nbformat": 4,
 "nbformat_minor": 2
}
